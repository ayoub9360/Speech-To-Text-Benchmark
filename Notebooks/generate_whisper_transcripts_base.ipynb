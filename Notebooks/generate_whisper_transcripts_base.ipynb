{
 "cells": [
  {
   "cell_type": "code",
   "execution_count": 1,
   "id": "ecfc97a4-4c2c-48d3-8b6e-ae4b70d6612b",
   "metadata": {},
   "outputs": [],
   "source": [
    "gcs_bucket=\"mickael-dm-stt\"\n",
    "gcs_transcripts_path=\"transcripts\"\n",
    "model=\"base\""
   ]
  },
  {
   "cell_type": "code",
   "execution_count": 2,
   "id": "37108fd4-fbde-4a47-8be6-23a4b2cb7393",
   "metadata": {},
   "outputs": [
    {
     "name": "stdout",
     "output_type": "stream",
     "text": [
      "[{'gcs_uri': 'gs://mickael-dm-stt/source/chirp/audio/fr-FR/x8mmzj2.flac', 'language_code': 'fr-FR'}, {'gcs_uri': 'gs://mickael-dm-stt/source/chirp/audio/fr-FR/x8mv7he.flac', 'language_code': 'fr-FR'}, {'gcs_uri': 'gs://mickael-dm-stt/source/chirp/audio/fr-FR/x8n3e82.flac', 'language_code': 'fr-FR'}, {'gcs_uri': 'gs://mickael-dm-stt/source/chirp/audio/fr-FR/x8n3jhn.flac', 'language_code': 'fr-FR'}, {'gcs_uri': 'gs://mickael-dm-stt/source/chirp/audio/fr-FR/x8n3qv2.flac', 'language_code': 'fr-FR'}, {'gcs_uri': 'gs://mickael-dm-stt/source/chirp/audio/fr-FR/x8n3ssu.flac', 'language_code': 'fr-FR'}, {'gcs_uri': 'gs://mickael-dm-stt/source/chirp/audio/en-US/x58y7eg.flac', 'language_code': 'en-US'}, {'gcs_uri': 'gs://mickael-dm-stt/source/chirp/audio/en-US/x8n0jf1.flac', 'language_code': 'en-US'}, {'gcs_uri': 'gs://mickael-dm-stt/source/chirp/audio/en-US/x8n29uv.flac', 'language_code': 'en-US'}, {'gcs_uri': 'gs://mickael-dm-stt/source/chirp/audio/en-US/x8n38du.flac', 'language_code': 'en-US'}]\n",
      "Number of files: 10\n"
     ]
    }
   ],
   "source": [
    "fr_gcs_uris=!(gsutil ls gs://{gcs_bucket}/source/chirp/audio/fr-FR)\n",
    "file_array=[]\n",
    "for uri in fr_gcs_uris:\n",
    "    file_array.append({\"gcs_uri\": uri,\"language_code\": \"fr-FR\"})\n",
    "\n",
    "en_gcs_uris=!(gsutil ls gs://mickael-dm-stt/source/chirp/audio/en-US)\n",
    "for uri in en_gcs_uris:\n",
    "    file_array.append({\"gcs_uri\": uri,\"language_code\": \"en-US\"})\n",
    "print(file_array)\n",
    "number_of_files=len(file_array)\n",
    "print(f\"Number of files: {number_of_files}\")"
   ]
  },
  {
   "cell_type": "code",
   "execution_count": 3,
   "id": "cf8f200d-ca75-4c1b-9fcd-1cb7644931dc",
   "metadata": {},
   "outputs": [
    {
     "name": "stdout",
     "output_type": "stream",
     "text": [
      "[{'gcs_uri': 'gs://mickael-dm-stt/source/chirp/audio/fr-FR/x8mmzj2.flac', 'language_code': 'fr-FR', 'local_uri': 'sound/fr-FR/x8mmzj2.flac'}, {'gcs_uri': 'gs://mickael-dm-stt/source/chirp/audio/fr-FR/x8mv7he.flac', 'language_code': 'fr-FR', 'local_uri': 'sound/fr-FR/x8mv7he.flac'}, {'gcs_uri': 'gs://mickael-dm-stt/source/chirp/audio/fr-FR/x8n3e82.flac', 'language_code': 'fr-FR', 'local_uri': 'sound/fr-FR/x8n3e82.flac'}, {'gcs_uri': 'gs://mickael-dm-stt/source/chirp/audio/fr-FR/x8n3jhn.flac', 'language_code': 'fr-FR', 'local_uri': 'sound/fr-FR/x8n3jhn.flac'}, {'gcs_uri': 'gs://mickael-dm-stt/source/chirp/audio/fr-FR/x8n3qv2.flac', 'language_code': 'fr-FR', 'local_uri': 'sound/fr-FR/x8n3qv2.flac'}, {'gcs_uri': 'gs://mickael-dm-stt/source/chirp/audio/fr-FR/x8n3ssu.flac', 'language_code': 'fr-FR', 'local_uri': 'sound/fr-FR/x8n3ssu.flac'}, {'gcs_uri': 'gs://mickael-dm-stt/source/chirp/audio/en-US/x58y7eg.flac', 'language_code': 'en-US', 'local_uri': 'sound/en-US/x58y7eg.flac'}, {'gcs_uri': 'gs://mickael-dm-stt/source/chirp/audio/en-US/x8n0jf1.flac', 'language_code': 'en-US', 'local_uri': 'sound/en-US/x8n0jf1.flac'}, {'gcs_uri': 'gs://mickael-dm-stt/source/chirp/audio/en-US/x8n29uv.flac', 'language_code': 'en-US', 'local_uri': 'sound/en-US/x8n29uv.flac'}, {'gcs_uri': 'gs://mickael-dm-stt/source/chirp/audio/en-US/x8n38du.flac', 'language_code': 'en-US', 'local_uri': 'sound/en-US/x8n38du.flac'}]\n"
     ]
    }
   ],
   "source": [
    "import re\n",
    "from google.cloud import storage\n",
    "import os\n",
    "\n",
    "storage_client = storage.Client()\n",
    "bucket = storage_client.bucket(gcs_bucket)\n",
    "\n",
    "for file in file_array:\n",
    "    regex=f\"gs://{gcs_bucket}/(.*)/(\\w+.flac)$\"\n",
    "    path,filename=re.search(regex,file[\"gcs_uri\"]).group(1,2)\n",
    "    local_uri=f\"sound/{file['language_code']}/{filename}\"\n",
    "    # Fetch results from Cloud Storage\n",
    "    blob = bucket.blob(path+\"/\"+filename)\n",
    "    \n",
    "    if not os.path.exists(f\"sound/{file['language_code']}/\"):\n",
    "            os.makedirs(f\"sound/{file['language_code']}/\")\n",
    "    blob.download_to_filename(local_uri)\n",
    "    file[\"local_uri\"]=local_uri\n",
    "    \n",
    "print(file_array)"
   ]
  },
  {
   "cell_type": "code",
   "execution_count": 4,
   "id": "6b48d547-204b-4950-abb1-4c1e65b41fa6",
   "metadata": {},
   "outputs": [
    {
     "name": "stderr",
     "output_type": "stream",
     "text": [
      "/opt/conda/lib/python3.10/site-packages/whisper/timing.py:58: NumbaDeprecationWarning: \u001b[1mThe 'nopython' keyword argument was not supplied to the 'numba.jit' decorator. The implicit default value for this argument is currently False, but it will be changed to True in Numba 0.59.0. See https://numba.readthedocs.io/en/stable/reference/deprecation.html#deprecation-of-object-mode-fall-back-behaviour-when-using-jit for details.\u001b[0m\n",
      "  def backtrace(trace: np.ndarray):\n"
     ]
    },
    {
     "name": "stdout",
     "output_type": "stream",
     "text": [
      "Transcript for gs://mickael-dm-stt/source/chirp/audio/fr-FR/x8mmzj2.flac:  On va d'abord parler du Kali Weiss si tu veux bien. Clairement, on qui est donc annoncé du côté de Strasbourg. On le rappelle, Strasbourg a été racheté par le consortium Blueco, à part qui a racheté. Il y a un peu plus d'un an, maintenant, chez le site, avec les conséquences qu'on connaît. Voilà, on en parle, c'est que ça paraît assez fou de voir Strasbourg se positionner dessus, parce qu'à 20 ans, il a montré de très, très belles choses en l'inguin d'an dernier, avec 19 buts. On sait qu'il y avait plusieurs gros noms dessus, de Jolinon, notamment chez le site, évidemment. Et que ça va leur marcher en estimé à 25,40 millions, ce qui paraît y a encore quelques temps, des sthommes complètement hallucinantes pour Strasbourg. Mais dans un monde normal, c'est une somme à une pour Strasbourg. Mais le monde Strasbourg joie n'est plus normal. Exactement. Il y a déjà, tu le recordes. Voilà, exactement. Viens d'acheter un défenseur central de 20 ans. A Bacar-Cilla pour 22 millions d'euros pour vous situer. Le plus gros transfert de l'histoire de l'Olympique Lionès, c'est Jeff Rennavelaïd à 25 millions d'euros. Le plus gros transfert de reine, c'est Guiri à 28. Lille, c'est David à 27 et l'OM, c'est Vitignia à 32. En gros, Strasbourg sera au niveau de ces équipes-là. Alors que Strasbourg n'a pas eu la vente qui a eu l'île, notamment avec Nicolas Pépé, qu'à pu avoir l'ion par le passé. Donc en gros, c'est de l'argent en frère, complètement nouveau. On va rester sur le KWY. Et on va dire une chose très concrète. WY, ne doit jamais attérir à Strasbourg dans un monde normal. Ça n'a aucun sens. C'est un joueur qui a 20 ans. Tu l'as dit. On doit le voir au niveau supérieur. Oui, on doit le voir dans un plus gros club français. Ouais, parce que Strasbourg. Qui joue potentiellement l'Europe. On a envie de voir ce que ça donne. Et Lille WY, peut-être pas en league des champions, mais au moins en Ligue Europa. Voilà, se faire un vrai avis sur Lille WY. Parce que si l'atérit à Strasbourg, il aura grosso modo le même calendrier qu'à mon pelier. Ouais. Alors, le saut de salaire, OK. Mais l'intérêt des Lille WY là-dedans, il est où ? C'est signé avec la grosse structure Chelsea, OK. Mais est-ce qu'il a la garantie d'un joueur a intérêt à Chelsea ? aucune. aucune. Et moi, c'est ce qui m'embête là-dedans. C'est que finalement, les seuls gagnant dans la faire, c'est Chelsea à long terme. Parce que... Et Lille WY, si Lille WY explose, il y aurait pu faire un super attaquant. Strasbourg, ils sont gagnants, mais à court terme. Parce que si ça se passe bien, que ça se passe bien ou que ça se passe mal, finalement, Lille WY fera une saison. Oui, c'est ça. Donc bon, l'intérêt, il est quand même limité sur le long terme. Et puis, au niveau du joueur, moi, ce qui m'interpelle, c'est qu'on a déjà vu à quel point par le passé, le système des prêts pouvait détruire la carrière des joueurs. On a beaucoup parlé que ce soit dans l'FC Stream Team, mercredi mercato, d'Alfonça Réôla, mais Chelsea aussi a eu quelques exemples assez marquants, Bertrand Trahor et Kevin Debrain. On en a entendu parler, ils ont réussi. C'est des jours qui ont très peu porté le maillot Chelsea, Chelsea les a simplement utilisé pour faire de l'argent. On peut très bien avoir la même chose pour Lille WY. Et à l'inverse, si ça se passe mal, vous pouvez avoir votre carrière flingue. Je vous prends un exemple, je me suis amusé à retraser ça, un argent en tant que c'est appel Lucas Piazzone, qui avait signé pour 7,5 millions d'euros à Chelsea en 2013. C'est le nouveau crack, etc. Il a eu des prêts à malagir, vite et sardemain, Frankfurt, Réding, Foulam, Kiev, Overone, Rio AV, avant d'être libéré en 2021 pour Braga. On n'est pas sur la carrière du siècle, et on peut même dire que être prêté d'une saison, de saison en saison dans des clubs différents, c'est impossible pour un joueur à part d'être un extraterrestre de bien se développer. Et même les extraterrestres reprennent les six premiers mois de Messia Paris. Voilà, ça reste des êtres humains, donc on ne peut pas les envoyer à droite à gauche, en ce moment, ça va être un bon employé qui va être rentable au bout de Simon, ça n'a aucun sens. Donc, dans la faire, ce qui me gêne, c'est que les clubs français sont très contents parce qu'ils récupèrent sans doute des joueurs qui sont inaccessibles au premier abord. Mais par contre, la logique, elle est uniquement en faveur du plus gros, et le joueur et même le club qui récupèrent ce joueur-là à court et à moyen terme, les risques qui sont énormissimes.\n",
      "Transcript for gs://mickael-dm-stt/source/chirp/audio/fr-FR/x8mv7he.flac:  Comment on peut être sûr que là où on vit c'est vraiment la réalité ? Quand vous allez vous apercevoir que ce que vous croyez être la réalité n'est pas forcément si sûr que ça, ça va mettre votre cerveau en ébullition. On va pas demander si la terre allait rond ou plate, on va juste imaginer que vous êtes sur le tour route en voiture depuis un petit moment, vous vous êtes seul sur le tour route, vous voyez les panneaux défilés, et tout à coup vous croisé une voiture à contre-sense sur votre voix. Mentalement dans votre réalité vous allez vous dire que cette voiture est à contre-sense. C'est assez logique, il a d'raînaline redécent, et là vous recroisez une deuxième voiture à contre-sense. Ça va activer dans votre cerveau un vieilléconitif qui s'appelle le biais de conformisme. Ça veut dire que vous vous liez ou non que votre cerveau va remettre en cause le fait que vous soyez dans le bon sens, parce que vous avez vu plus d'une personne, donc plus que vous allez dans notre sens. Il y a que de point de référence un de personnes qui allait dans un certain sens, et vous tout seul qui alliez dans un autre sens. Et bien même si ça fait une heure que vous êtes sur la route, que vous avez pris la bonne voix, vous en êtes sûr que vous avez vu les panneaux dans votre sens d'électure à vous, et pas de dos, vous allez commencer à douter de la réalité de ce que vous croyez. Et le vieillé de conformisme ça marche pour pas mal de choses, pour les sondages, pour les avions d'une manière générale, qu'on l'admète ou non, en attendant sa pensée et agir comme les autres. Qui t'a douté de notre propre réalité ? Est-ce que vous êtes sûr ? Par exemple, la maintenant tout de suite que vous n'êtes pas dans un rêve ? Allez, Hart, cette question, parce que à part se réveiller, vous avez pas de moyens de le savoir. Du coup, il y a une seule chose dont on est sûr. C'est que je m'appelle toujours Fabian Olika, je suis toujours mentaliste. À très bientôt, ciao !\n",
      "Transcript for gs://mickael-dm-stt/source/chirp/audio/fr-FR/x8n3e82.flac:  ... Elle me moua d'où-dù Montre le mois d'où-dù ... Notre histoire n'aurait jamais pu finir dans le calmer la temps-mais La cocaïna, la cocaïna La prima famille Je suis une clandestina, une clandestina Amie amie ... Et une vie que pour les caméras\n",
      "Transcript for gs://mickael-dm-stt/source/chirp/audio/fr-FR/x8n3jhn.flac:  Il y a déjà déjà dépensé 80 000 euros pour les brets, alors qu'il a même pas vraiment commencé. Ce week-end on a eu le droit à une vidéo assez émouvant de 10 nox dans laquelle il a monté le mon blanc et le mon cerveau dans la foulée, 2 des plus gros sommets d'Europe. J'aboue que le moment est décembre par acheut, j'avais des frissons et tout, bon, en gros il commence vraiment à chauffer à 8 mois de les brets. C'est quoi, c'est... c'est mes moments de la vie je crois. Globalement, apparemment, petit vomi, un petit prôme de cardio, techniquement il est au top, donc moi j'y crois vraiment qu'il va la réussir. Vous vous rappelez, je vous avais dit que c'est un gros budget à les brets, genre 1 million d'euros. Parce qu'il va faire un beau documentaire, faut payer les caméramans, les guides, la raclette, bref, des chers. Et entre deux ascension, il nous a révélé qu'avec le matos, l'entraînement, les montagnes, il avait déjà dépensé 80 000 bales. Bon, il a trouvé un sponsor, c'est pas le célécourde. Il veut être sécurisé au marque, c'est s'entouré des meilleurs et là bien raison. Mais il est même pas à un dixième de ces dépens. Avec l'Alpini, c'est quand même un sport qui coûte cher. Vous pensez qu'il va réussir vous ?\n",
      "Transcript for gs://mickael-dm-stt/source/chirp/audio/fr-FR/x8n3qv2.flac:  Est-ce que tu savais que Minecraft c'est une matière dans certaines écoles ? Il existe une version éducative de Minecraft, elle s'appelle Minecraft Edu, c'est une version basée sur Madrock, et elle a quelques fonctionnalités en plus pour permettre une utilisation plus simple dans les salles de classe. Car oui, dans certaines écoles, le jeu est même devenu une matière à part entière. C'est une version du jeu propose un système multivoire pour 40 personnes, une belle salle de classe, quoi, une fonctionnalité porte folio en ligne pour que les élèves puisse montrer l'avancée de leur travaux, et les profs ont accès à un panel de cours sur mesure spécialement conçu pour l'enseignement. Ça paraît fou quand même, tu le savais ?\n",
      "Transcript for gs://mickael-dm-stt/source/chirp/audio/fr-FR/x8n3ssu.flac:  1.1 oz d'hôr 2.1 oz d'hôr 2.1 oz d'hôr 2.1 oz d'hôr 2.1 oz d'hôr 2.1 oz d'hôr 2.1 oz d'hôr 2.1 oz d'hôr 2.1 oz d'hôr 2.1 oz d'hôr 2.1 oz d'hôr\n",
      "Transcript for gs://mickael-dm-stt/source/chirp/audio/en-US/x58y7eg.flac:  I remember getting a detention or suspended for skateboarding in the hallways. My principal is saying if you think you're going to grow up and be able to skateboard through the halls of your office, you got another thing coming. I built a half pipe in my office a few years ago just so I could skateboard while I worked. My name is Casey Neissat and I'm a filmmaker and a YouTuber and a business owner and a dad. I wear a lot of hats. I got a lot of trouble as a kid. I got a lot of trouble in grammar school just for being bad. It wasn't a lack of respect for authority. It was that I disagreed with the authority. It was just that I didn't agree with it. If I didn't agree with it, why should I subscribe to it? I would describe so much of what I experienced and so much of the guidance I was given right up until my teenage years as straight to the middle. Like yes, you want an average job and an average life. Here's the instruction mail to do it and if you don't follow these rules, you are wrong. And I didn't believe in that. I didn't subscribe to that. In my frustration was every time I pushed back against that, I'd be pushed down by the authority figures because I would be wrong. And I fucking hated that. That frustration was huge for me and I was running into it everywhere I went. So I left. I ran away from home when I was like 15 years old. I moved in with these two girls. It took me about six weeks to get one of them pregnant. And then I had a baby like two weeks after my 17th birthday. So that was a pivotal moment in my life. Whereas poor as poor could be. We're on welfare. We got free milk and diapers from the state. But I had a job. I was a dishwasher and I had like a regular income. It was $320 a week. Eventually moved into a trailer park. And then my son's mother dumped me when he was about two years old for all the right reasons. And that's when I started to kind of panic. And it was also the same time that I was introduced to video editing via the new at the time, 1999, the new IMAC, which it had iMovie version 1.0 on it. I remember the first time I played with that, I was like, wow, this is a way of taking these ideas, and turning them into something that I could then share. And that was a profound moment for me in my life. I, for the first time, didn't have any reason to be in South Eastern Connecticut. I felt sort of an impetus to do something more. And I had no idea what that more was. But I knew it couldn't be accomplished in Connecticut. I knew I had to get out. And that's when I made the decision to move to New York City. New York City has always been sort of an object of obsession for me. It's been something that I have been obsessed. I've been a romanticized. It's something that I've fixated on since I was a kid. I was June 4th, 2001, and I moved to New York City on a train on Amphac train. So there's everything that I could take with me on a train, which was fairly limited. So it wasn't a lot. It was a duffle bag in an iMac, more than each hand. And I took it to Penn Station, and from there took a taxi, which was like a lot of my money, to a sublet that I had in the East Village. And that sublet was probably 200 or 300 square feet, and I shared it with a stranger. So I had a futon in what was my room, and the room was so small that futon wouldn't lay flat. There was no fear, there was no trepidation, it was just pure, unbridled enthusiasm. It was excitement for what was to come. It was me realizing something that had once felt unattainable, and now it was in the palm of my hand. I think the channel started in 2010, and then I think bike lanes was 2011, and then Make It Count was like 2012 or 2013. And it was those two and a couple of other ones around there that really like took you from 0 to 100. The day to day now is all about my tech company, Beam. We are in the hands of thousands of thousands of users that are using our platform every single day. So the minute to minute is about making that product better for them. This is what sharing on Beam looks like. There's no staring at the phone, you just hold it to your chest, and it records, and then it's posted. That's it. I love sharing more than anything else, and sharing in any and every way possible is how to describe the umbrella that all of my little more specific ambitions live under. But that inflection point, that moment, leaving Connecticut, leaving what was a life that very easily could have been my entire trajectory. Working in kitchens, living in a trailer park, struggling and being miserable, making the decision to leave that and embrace something that was certainly terrifying, that was unknown, that was undetermined in every capacity. That inflection point, that decision has been the most pivotal decision of my entire life. Thanks for watching.\n",
      "Transcript for gs://mickael-dm-stt/source/chirp/audio/en-US/x8n0jf1.flac:  I'm Felaian. And I'm Bobby. I'm from Dallas. I'm from Detroit. And we're flying across. We make music for the girls, the gays, and the days. And every other disenfranchised group out there that doesn't have a voice. We want to empower the unempowered. Yeah, black girls up one. The weird ones up two. Oh. MUSIC Our group name, Felaian Abbas, has a lot of dimensions to it. It's multi-layered. She came up with it, really. She went to sleep one night. She woke up. There's this big picture of Diana Ross. And she said, fly and a boss. Exactly. And then later on, I figured I was like, your fly and a boss. So flying a boss, it is. Yeah. I'm a great fuck, but the bed-a-lover, open-carry pussy leap the lecom-danny glupper. I might still a bike. Drop it through the suburbs. Got your daddy cuffed up like he undercover. When we were writing the song, we were like, we need a bar at the very beginning. Like a standout bar that's going to smack people in the face. Yeah, they just go, what did they just say? We ended up with, I'm a great fuck, but a better lover because we're better lovers than we are, fucks. Yeah. This is also the first time we ever said, pussy in a song twice. Each of us said it, too. Yeah, I've never seen lethal weapon. But yeah, but I was like, Danny Glover's in that movie. Let's run under cover. With Danny Glover. Prop top, low waist, tiny titties in your face. Drop top, big subs. I'm like Nikki Super bass. Got your windows fogged up because I'm hot like Nellie. I know what you want, so get in my. We love Nikki so much. She's like a big part of our daily life. Like we're always quoting Nikki Bars. Yeah. Our favorite verse of all time is her verse and rake it up. I could genius dissect that right now if you want. Brought out the pink Lamborghini just to race in China. Brought the rake to China, just to race in China. So good. So Nikki's influence is always there. Heavy, heavy. Heavy on it. Get like me. Now you wish you could never ever ever be that bitch. Get like me. Now you wish you could never ever ever ever ever be that bitch. In order to be that bitch, you just have to love yourself. Love others. Be kind. Be respectful. And that will give you a path to being the best you. You could never be us. Yeah. You could also be that bitch. You could. You can be that bitch, but not these bitches. Yeah. Hello Christ. I'm about to sin again. I said, I love you to them. Man, but I'm not feeling him. Hello Christ. It's like, forgive me, father. I have sin. Exactly. But it's like, I'm gonna just tell you I'm gonna sin again. Right. And then we were like, okay, what's the good thing? But what's like a sweet sin? Yeah, it's not too bad. But like something that we would think is a sin is like telling a man that you love him, but you love him. I cannot feel in him. That is like a sin. Yeah. Also the verdicts out, I lied. I was feeling him. I really was. I'm made of sugar spice, connect cologne and cinnamon. Powerpuff girls have been like a theme since we started. Like sugar spice, you know. Everything. Yeah. Whatever. The ex, the ex, the ex, all of that. But I was like, okay, what are we actually made of? And connect cologne. Connect cologne. It's a daily part of both of our lives. We both braid our hair. It's such a great fun word to say too. And my bestie are the same like a synonym. We're the same but different. Yeah. Which is a synonym. Yeah. Like is that the exact same word? Yeah. But it means the same thing. Yeah. So we are like a synonym. Or answer a synonym and a synonym. So we put it in. I be Michael Phelps, all the brand deals that I'm swimming in. When we wrote the brand deal line, we had zero brand deals. Is it? But now we have a couple. Manifestation is real. Yeah. You can call me Dr. Evil because I got many men. That line just felt like a layup. Yeah. I was like, oh, Dr. Evil, many men. Many men. Many men. Also all the henchmen. He has so many henchmen. And then many me. Everything. It just came together. Yeah. Invested in this pussy and this is paying dividends. Slap a bitch, bitch, slap, bet. Because I'm feminine. I think it's important to invest in your pussy. Financially, spiritually, a wax maybe, a worship your own pussy, you know, all of that. It's important to take the time to invest in your pussy. But also invest in yourself, your human body and who you are in your spirituality and all of that. And that's what that line represents. Our very first video of us running was in the suburbs. OK? We just picked a random street and we were like, let's run on the street. And we did it to like the first verse. And like we talked about it. We weren't sure like if we should both be running at the same time together. But then eventually we came to the conclusion that I'm just going to hop in whenever. So I like stood down the street and waited for them. And we've been running ever since. Yeah.\n",
      "Transcript for gs://mickael-dm-stt/source/chirp/audio/en-US/x8n29uv.flac:  Uber CEO has accidentally revealed that he doesn't know how much rides cost on his own app. In an interview with wire, Darah Kosser-Shahi was asked how much he thought a three mile Uber ride in New York cost. His answer was 20 bucks before being told the total was $50 and the CEO was shocked. Kosser-Shahi responded with, oh my God, wow. And that was before he found out the $50 was on the lower end due to surge pricing. Surge pricing is one price increase for goods or services during peak demand time. So sometimes a three mile ride in New York in an Uber can cost an upward of $70. And data suggests that Uber's prices are continuing to rise. As for Shahi, he addressed this issue saying, everything is more expensive, inflation has become a part of our everyday lives. He also mentioned that Uber is seeing audience growth. So while prices are higher, he said it certainly hasn't hurt the business.\n",
      "Transcript for gs://mickael-dm-stt/source/chirp/audio/en-US/x8n38du.flac:  I knew for a fact even before the broadcasters, all the broadcasters in Europe was so negative about taking up the, you know, taking up the, what's the word I'm looking for? The rights. Taking up the rights and I'm quite pleased that in the end, you know, it's like one of the most attended, one of the most watched, you know, and it's embarrassed to them, really. Because like I believe that the women's game is, it's like a new start of business. It needs investment. It needs to be given time and I would like to have seen the broadcasters put that money in and give it the investment that it needs. Because what we're seeing now is like we're saying record, record attendances, viewing figures, you know, the girls have delivered. And I'm really pleased about it. I'm really pleased for them.\n",
      "Took 177.75760626792908 to execute\n"
     ]
    }
   ],
   "source": [
    "import whisper\n",
    "import time\n",
    "import re\n",
    "from google.cloud import storage\n",
    "\n",
    "whisper_model=whisper.load_model(model)\n",
    "\n",
    "# Instantiates a Cloud Storage client\n",
    "storage_client=storage.Client()\n",
    "bucket = storage_client.bucket(gcs_bucket)\n",
    "\n",
    "start_time = time.time()\n",
    "\n",
    "for file in file_array:\n",
    "    transcript=whisper_model.transcribe(file[\"local_uri\"], fp16=False)\n",
    "    print(f\"Transcript for {file['gcs_uri']}: {transcript['text']}\")\n",
    "\n",
    "    transcript_path=f\"{gcs_transcripts_path}/whisper_{model}\"\n",
    "    transcript_id=re.search(\"(\\w+)\\.flac$\",file[\"gcs_uri\"]).group(1)\n",
    "    #print(f\"gs://{gcs_bucket}/{transcript_path}/txt/{transcript_id}.txt\")\n",
    "    \n",
    "    # Instantiates a Cloud Storage client\n",
    "    blob=bucket.blob(f\"{transcript_path}/txt/{transcript_id}.txt\")\n",
    "    blob.upload_from_string(transcript[\"text\"])\n",
    "    \n",
    "duration = time.time() - start_time\n",
    "print(f\"Took {duration} to execute\")\n",
    "\n",
    "#result = whisper_model.transcribe(\"sound/fr-FR/x8n3qv2.flac\", fp16=False)\n",
    "#print(result[\"text\"])\n",
    "\n",
    "#gs://mickael-dm-stt/transcripts/chirp/txt/x8n3ssu.txt"
   ]
  }
 ],
 "metadata": {
  "environment": {
   "kernel": "python3",
   "name": "common-cpu.m110",
   "type": "gcloud",
   "uri": "gcr.io/deeplearning-platform-release/base-cpu:m110"
  },
  "kernelspec": {
   "display_name": "Python 3",
   "language": "python",
   "name": "python3"
  },
  "language_info": {
   "codemirror_mode": {
    "name": "ipython",
    "version": 3
   },
   "file_extension": ".py",
   "mimetype": "text/x-python",
   "name": "python",
   "nbconvert_exporter": "python",
   "pygments_lexer": "ipython3",
   "version": "3.10.12"
  }
 },
 "nbformat": 4,
 "nbformat_minor": 5
}
