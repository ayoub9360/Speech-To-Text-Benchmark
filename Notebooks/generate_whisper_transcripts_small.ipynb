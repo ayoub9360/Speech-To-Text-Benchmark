{
 "cells": [
  {
   "cell_type": "code",
   "execution_count": 1,
   "id": "ecfc97a4-4c2c-48d3-8b6e-ae4b70d6612b",
   "metadata": {},
   "outputs": [],
   "source": [
    "gcs_bucket=\"mickael-dm-stt\"\n",
    "gcs_transcripts_path=\"transcripts\"\n",
    "model=\"small\""
   ]
  },
  {
   "cell_type": "code",
   "execution_count": 2,
   "id": "37108fd4-fbde-4a47-8be6-23a4b2cb7393",
   "metadata": {},
   "outputs": [
    {
     "name": "stdout",
     "output_type": "stream",
     "text": [
      "[{'gcs_uri': 'gs://mickael-dm-stt/source/chirp/audio/fr-FR/x8mmzj2.flac', 'language_code': 'fr-FR'}, {'gcs_uri': 'gs://mickael-dm-stt/source/chirp/audio/fr-FR/x8mv7he.flac', 'language_code': 'fr-FR'}, {'gcs_uri': 'gs://mickael-dm-stt/source/chirp/audio/fr-FR/x8n3e82.flac', 'language_code': 'fr-FR'}, {'gcs_uri': 'gs://mickael-dm-stt/source/chirp/audio/fr-FR/x8n3jhn.flac', 'language_code': 'fr-FR'}, {'gcs_uri': 'gs://mickael-dm-stt/source/chirp/audio/fr-FR/x8n3qv2.flac', 'language_code': 'fr-FR'}, {'gcs_uri': 'gs://mickael-dm-stt/source/chirp/audio/fr-FR/x8n3ssu.flac', 'language_code': 'fr-FR'}, {'gcs_uri': 'gs://mickael-dm-stt/source/chirp/audio/en-US/x58y7eg.flac', 'language_code': 'en-US'}, {'gcs_uri': 'gs://mickael-dm-stt/source/chirp/audio/en-US/x8n0jf1.flac', 'language_code': 'en-US'}, {'gcs_uri': 'gs://mickael-dm-stt/source/chirp/audio/en-US/x8n29uv.flac', 'language_code': 'en-US'}, {'gcs_uri': 'gs://mickael-dm-stt/source/chirp/audio/en-US/x8n38du.flac', 'language_code': 'en-US'}]\n",
      "Number of files: 10\n"
     ]
    }
   ],
   "source": [
    "fr_gcs_uris=!(gsutil ls gs://{gcs_bucket}/source/chirp/audio/fr-FR)\n",
    "file_array=[]\n",
    "for uri in fr_gcs_uris:\n",
    "    file_array.append({\"gcs_uri\": uri,\"language_code\": \"fr-FR\"})\n",
    "\n",
    "en_gcs_uris=!(gsutil ls gs://mickael-dm-stt/source/chirp/audio/en-US)\n",
    "for uri in en_gcs_uris:\n",
    "    file_array.append({\"gcs_uri\": uri,\"language_code\": \"en-US\"})\n",
    "print(file_array)\n",
    "number_of_files=len(file_array)\n",
    "print(f\"Number of files: {number_of_files}\")"
   ]
  },
  {
   "cell_type": "code",
   "execution_count": 3,
   "id": "cf8f200d-ca75-4c1b-9fcd-1cb7644931dc",
   "metadata": {},
   "outputs": [
    {
     "name": "stdout",
     "output_type": "stream",
     "text": [
      "[{'gcs_uri': 'gs://mickael-dm-stt/source/chirp/audio/fr-FR/x8mmzj2.flac', 'language_code': 'fr-FR', 'local_uri': 'sound/fr-FR/x8mmzj2.flac'}, {'gcs_uri': 'gs://mickael-dm-stt/source/chirp/audio/fr-FR/x8mv7he.flac', 'language_code': 'fr-FR', 'local_uri': 'sound/fr-FR/x8mv7he.flac'}, {'gcs_uri': 'gs://mickael-dm-stt/source/chirp/audio/fr-FR/x8n3e82.flac', 'language_code': 'fr-FR', 'local_uri': 'sound/fr-FR/x8n3e82.flac'}, {'gcs_uri': 'gs://mickael-dm-stt/source/chirp/audio/fr-FR/x8n3jhn.flac', 'language_code': 'fr-FR', 'local_uri': 'sound/fr-FR/x8n3jhn.flac'}, {'gcs_uri': 'gs://mickael-dm-stt/source/chirp/audio/fr-FR/x8n3qv2.flac', 'language_code': 'fr-FR', 'local_uri': 'sound/fr-FR/x8n3qv2.flac'}, {'gcs_uri': 'gs://mickael-dm-stt/source/chirp/audio/fr-FR/x8n3ssu.flac', 'language_code': 'fr-FR', 'local_uri': 'sound/fr-FR/x8n3ssu.flac'}, {'gcs_uri': 'gs://mickael-dm-stt/source/chirp/audio/en-US/x58y7eg.flac', 'language_code': 'en-US', 'local_uri': 'sound/en-US/x58y7eg.flac'}, {'gcs_uri': 'gs://mickael-dm-stt/source/chirp/audio/en-US/x8n0jf1.flac', 'language_code': 'en-US', 'local_uri': 'sound/en-US/x8n0jf1.flac'}, {'gcs_uri': 'gs://mickael-dm-stt/source/chirp/audio/en-US/x8n29uv.flac', 'language_code': 'en-US', 'local_uri': 'sound/en-US/x8n29uv.flac'}, {'gcs_uri': 'gs://mickael-dm-stt/source/chirp/audio/en-US/x8n38du.flac', 'language_code': 'en-US', 'local_uri': 'sound/en-US/x8n38du.flac'}]\n"
     ]
    }
   ],
   "source": [
    "import re\n",
    "from google.cloud import storage\n",
    "import os\n",
    "\n",
    "storage_client = storage.Client()\n",
    "bucket = storage_client.bucket(gcs_bucket)\n",
    "\n",
    "for file in file_array:\n",
    "    regex=f\"gs://{gcs_bucket}/(.*)/(\\w+.flac)$\"\n",
    "    path,filename=re.search(regex,file[\"gcs_uri\"]).group(1,2)\n",
    "    local_uri=f\"sound/{file['language_code']}/{filename}\"\n",
    "    # Fetch results from Cloud Storage\n",
    "    blob = bucket.blob(path+\"/\"+filename)\n",
    "    \n",
    "    if not os.path.exists(f\"sound/{file['language_code']}/\"):\n",
    "            os.makedirs(f\"sound/{file['language_code']}/\")\n",
    "    blob.download_to_filename(local_uri)\n",
    "    file[\"local_uri\"]=local_uri\n",
    "    \n",
    "print(file_array)"
   ]
  },
  {
   "cell_type": "code",
   "execution_count": 4,
   "id": "6b48d547-204b-4950-abb1-4c1e65b41fa6",
   "metadata": {},
   "outputs": [
    {
     "name": "stderr",
     "output_type": "stream",
     "text": [
      "/opt/conda/lib/python3.10/site-packages/whisper/timing.py:58: NumbaDeprecationWarning: \u001b[1mThe 'nopython' keyword argument was not supplied to the 'numba.jit' decorator. The implicit default value for this argument is currently False, but it will be changed to True in Numba 0.59.0. See https://numba.readthedocs.io/en/stable/reference/deprecation.html#deprecation-of-object-mode-fall-back-behaviour-when-using-jit for details.\u001b[0m\n",
      "  def backtrace(trace: np.ndarray):\n",
      "100%|███████████████████████████████████████| 461M/461M [00:10<00:00, 44.2MiB/s]\n"
     ]
    },
    {
     "name": "stdout",
     "output_type": "stream",
     "text": [
      "Transcript for gs://mickael-dm-stt/source/chirp/audio/fr-FR/x8mmzj2.flac:  On va d'abord parler du cas Eli Waïs si tu veux bien. Clairement, donc est du coup annoncé du côté de Strasbourg. On le rappelle, Strasbourg a été racheté par le consortium Blue Co qui a acheté il y a un peu plus d'un an maintenant Chelsea avec les conséquences qu'on connaît. Voilà alors, Waïs si on en parle c'est que ça paraît assez fou de voir Strasbourg se positionner dessus parce que à 20 ans il a montré de très belles choses en l'année dernière avec 19 buts. On sait qu'il y avait plusieurs gros noms dessus de jolies noms notamment Chelsea évidemment et que voilà ça va alors marchand d'estimer à 25 et 40 millions ce qui paraît il y a encore quelques temps des stommes complètement hallucinantes pour Strasbourg. Mais dans un monde normal c'est une somme à l'un des stommes pour Strasbourg mais le monde strachours jaune n'est plus normal. Exactement. Il y a déjà tu le record. Voilà exactement. Ils viennent d'acheter un défenseur central de 20 ans à Baccarcilla pour 22 millions d'euros pour vous situer. Le plus gros transfert de l'histoire de l'Olympique Lyonnais et Jeff Reinhardt et laïda 25 millions d'euros. Le plus gros transfert de Reine c'est Guéry à 28. L'île c'est David à 27 et l'OM c'est Vittigna à 32 donc en gros Strasbourg sur le niveau de ses équipes là. Alors que Strasbourg n'a pas eu la vente qu'a eu l'île notamment avec Nicolas Pépé qui a pu avoir Lyon par le passé donc en gros c'est de l'argent frais complètement nouveau. On va rester sur le cas Hawaii et on va dire une chose très concrète. Hawaii ne doit jamais atterrir à Strasbourg dans un monde normal. Ça n'a aucun sens. C'est un joueur qui a 20 ans tu l'as dit. On doit le voir au niveau supérieur. Oui on doit le voir peut-être dans un plus gros club français qui joue potentiellement l'Europe. On doit aussi le voir et voir ce que ça donne. Alors peut-être pas en l'île des champions mais 6000 en l'île Europe. Voilà se faire un vrai avis sur Hawaii. Parce que s'il atterri à Strasbourg il aura grosso modo le même calendrier qu'un Montpellier. Alors le saut de salaire ok. Mais l'intérêt d'Helie Hawaii là-dedans il est où ? C'est de signer avec la grosse structure Chelsea. Ok. Mais est-ce qu'il a la garantie d'un jour atterrir à Chelsea ? Aucune. Et moi c'est ce qui m'embête là-dedans. C'est que finalement les seuls gagnants dans l'affaire c'est Chelsea à long terme. Parce que possiblement si Helie Hawaii explose il récupère un super attaquant. Strasbourg ils sont gagnants mais à court terme. Parce que si ça se passe bien ou que ça se passe mal finalement, Helie Hawaii fera une saison. Oui c'est ça. Donc bon l'intérêt il est quand même limité sur le long terme. Et puis au niveau du joueur moi ce qui m'interpelle c'est qu'on a déjà vu à quel point par le passé le système des prêts pouvait détruire la carrière des joueurs. On a beaucoup parlé que ce soit dans les FCs, Stream Team ou Mercredi Mercato d'Alphonse à Réola. Mais Chelsea aussi a eu quelques exemples assez marquants. Bertrand Traor et Kevin De Bruyne ok on en a entendu parler. Ils ont réussi c'est des joueurs qui ont très peu porté le maillot de Chelsea et Chelsea les a simplement utilisés pour faire de l'argent. On peut très bien avoir la même chose pour Helie Hawaii. Et à l'inverse si ça se passe mal vous pouvez avoir votre carrière flingue. Un exemple je me suis amusé à retracer ça. Un argentin qui s'appelle Lucas Piazzone qui avait signé pour 7,5 millions d'euros à Chelsea en 2013. C'est le nouveau crack etc. Il a eu des prêts à Malaga, Vitesse Rname, Frankfurt, Reading, Foulham, Kievo Veron, Rio Havé avant d'être libéré en 2021 pour Braga. On n'est pas sur la carrière du siècle et on peut même dire que être prêté de saison en saison dans des clubs différents c'est impossible pour un joueur à part d'être un extra-terrestre de bien se développer. Et même les extra-terrestres reprenaient les 6 premiers mois de messie à Paris. Voilà, ça reste des êtres humains. On ne peut pas les envoyer à droite à gauche en se disant « c'est un bon employé qui va être rentable au bout de 6 mois, ça n'a aucun sens ». Donc dans l'affaire ce qui me gêne c'est que les clubs français sont très contents parce qu'ils récupèrent sans doute des joueurs qui sont inaccessibles pour eux au premier abord. Mais par contre la logique elle est uniquement en faveur du plus gros. Et le joueur et même le club qui récupère ce joueur là à courir à moyen terme les risques sont énormissimes. Sous-titres réalisés par la communauté d'Amara.org\n",
      "Transcript for gs://mickael-dm-stt/source/chirp/audio/fr-FR/x8mv7he.flac:  Comment on peut être sûr que là où on vit c'est vraiment la réalité ? Quand vous allez vous apercevoir que ce que vous croyez être la réalité n'est pas forcément si sûr que ça, ça va mettre votre cerveau en ébullition. On va pas se demander si la Terre a les rondes ou plate, on va juste imaginer que vous êtes sur le tour route en voiture depuis un petit moment, vous vous êtes seul sur le tour route, vous voyez les panneaux défilés et tout à coup, vous croisez une voiture à contre-sens sur votre voie. Mentalement dans votre réalité, vous allez vous dire que cette voiture est à contre-sens. Contre-sens. C'est assez logique, il adrène à l'ine redescend et là vous recroisez une deuxième voiture à contre-sens. Ça va activer dans votre cerveau un biais cognitif qui s'appelle le biais de conformisme. Ça veut dire que vous vous liez ou non que votre cerveau va remettre en cause le fait que vous soyez dans le bon sens parce que vous avez vu plus d'une personne, donc plus que vous allez dans l'autre sens. Il n'y a que deux points de référence, deux personnes qui allaient dans un certain sens et vous tout seuls qui alliaient dans un autre sens. Et bien même si ça fait une heure que vous êtes sur la route, que vous avez pris la bonne voie, vous en êtes sûrs, que vous avez vu les panneaux dans votre sens des lectures à vous et pas de dos, vous allez commencer à douter de la réalité de ce que vous croyez être vrai. Et le biais de conformisme, ça marche pour pas mal de choses, pour les sondages, pour les avis d'une manière générale, qu'on l'admette ou non en attendant sa pensée et agir comme les autres. Quitte à douter de notre propre réalité. Est-ce que vous êtes sûrs ? Par exemple, là maintenant tout de suite que vous n'êtes pas dans un rêve. Allez, harte cette question parce que, à part se réveiller, vous n'avez pas de moyens de le savoir. Du coup, il y a une seule chose dont on est sûrs. C'est que je m'appelle toujours Fabio Olicard, je suis toujours modaliste. À très bientôt, tchao !\n",
      "Transcript for gs://mickael-dm-stt/source/chirp/audio/fr-FR/x8n3e82.flac:  ... Aime-moi doudou, montre-le-moi doudou ... Notre histoire n'aurait jamais pu finir Dans le calme et la tendresse La cocaïne, la cocaïne a appris ma famille J'suis une clandestine, a une clandestine A amie, amie ... ... et une vie que pour les caméras\n",
      "Transcript for gs://mickael-dm-stt/source/chirp/audio/fr-FR/x8n3jhn.flac:  Dinox tag a déjà dépensé 80 000 euros pour l'Ebreste alors qu'il a même pas vraiment commencé. Ce week-end on a eu le droit à une vidéo assez mouvante d'inox dans laquelle il a monté le Mont Blanc et le Mont Servin dans la foulée de deux des plus gros sommets d'Europe. J'abouc le moment où il descend en parachute, j'avais des frissons et tout, bon. En gros il commence vraiment à chauffer à 8 mois de l'Ebreste. J'ai cru que c'était super mauvais de ma vie, je crois. Globalement appare un petit vomi, un petit problème de cardio, techniquement il est au top donc moi j'y crois vraiment qu'il va les réussir. Et vous vous rappelez je vous avais dit que c'était un gros budget à l'Ebreste, genre 1 million d'euros. Parce qu'il va faire un beau documentaire, il faut payer les caméraman, les guides, la raclette, bref c'est cher. Et entre deux ascensions il nous a révélé qu'avec le mâteau, l'entraînement, les montagnes, il avait déjà dépensé 80 000 balles. Bon il a trouvé un sponsor, Spul c'est les gourdes, il veut être sécurisé au Marc, s'y entourer des meilleurs et il a bien raison. Mais il est même pas à un dixième de ses dépenses. Je crois que l'alpiniste c'est un sport qui coûte cher. Vous pensez qu'il va réussir vous ?\n",
      "Transcript for gs://mickael-dm-stt/source/chirp/audio/fr-FR/x8n3qv2.flac:  Est-ce que tu savais que Minecraft est une matière dans certaines écoles ? Il existe une version éducative de Minecraft, elle s'appelle Minecraft Edu, c'est une version basée sur Bedrock, et elle a quelques fonctionnalités en plus pour permettre une utilisation plus simple dans les salles de classe. Car oui, dans certaines écoles, le jeu est même devenu une matière à part entière. Cette version du jeu propose un système multivoire pour 40 personnes, une belle salle de classe quoi, une fonctionnalité portfolio en ligne pour que les élèves puissent montrer l'avancée de leur travaux, et les profs ont accès à un panel de cours sur mesure spécialement conçu pour l'enseignement. Ça paraît fou quand même. Tu le savais ?\n",
      "Transcript for gs://mickael-dm-stt/source/chirp/audio/fr-FR/x8n3ssu.flac:  වවවවවවවවවවවවඅ. ස්වවවවවවඅ.\n",
      "Transcript for gs://mickael-dm-stt/source/chirp/audio/en-US/x58y7eg.flac:  I remember getting detention or suspended for skateboarding in the hallways. My principal is saying if you think you're going to grow up and be able to skateboard through the halls of your office, you've got another thing coming. I built a half pipe in my office a few years ago just so I could skateboard while I worked. My name is Casey Neistat and I'm a filmmaker and a YouTuber and a business owner and a dad. I wear a lot of hats. Music I was born in southeastern Connecticut in a town called Gales Ferry, which is like a little kind of nothing town. I got in a lot of trouble as a kid. Like a lot of trouble in grammar school just for being bad. It wasn't a lack of respect for authority. It was that I disagreed with the authority. As I was being told things that I just didn't agree with. And if I didn't agree with it, why should I subscribe to it? Like I would describe so much of what I experienced and so much of the guidance that I was given right up until my teenage years as straight to the middle. Like yes, you want an average job and an average life. Here's the instruction manual to do it and if you don't follow these rules, you are wrong. And I didn't believe in that. I didn't subscribe to that. And my frustration was every time I pushed back against that, I'd be pushed down by the authority figures because I would be wrong. And I fucking hated that. Like that frustration was huge for me. And I was running into it everywhere I went. So I left. I ran away from home when I was like 15 years old. I moved in with these two girls. It took me about six weeks to get one of them pregnant. And then I had a baby like two weeks after my 17th birthday. So that was a pivotal moment in my life. We're as poor as poor could be. We're on welfare. We got free milk and diapers from the state. But I had a job. I was a dishwasher and I had like a regular income. It was $320 a week. I eventually moved into a trailer park and then my son's mother dumped me when he was about two years old for all the right reasons. And that's when I started to kind of panic. And it was also the same time that I was introduced to video editing via the new at the time 1999, the new iMac, which it had iMovie version 1.0 on it. I remember the first time I played with that, I was like, wow, this is a way of taking these ideas and turning them into something. And turning them into something that I could then share. And that was a profound moment for me in my life. I for the first time didn't have any reason to be in Southeastern Connecticut. I felt sort of an impetus to do something more. And I had no idea what that more was, but I knew it couldn't be accomplished in Connecticut. I knew I had to get out. And that's when I made the decision to move to New York City. New York City has always been sort of an object of obsession for me. I've been something that I have been obsessed. I've been romanticized. It's something that I've fixated on since I was a kid. It was June 4th, 2001, and I moved to New York City on a train, on Amtrak train. So it was everything that I could take with me on a train, which was fairly limited. So it wasn't a lot. It was a duffel bag and an iMac, one each hand. And I took it to Penn Station, and from there took a taxi, which was like a lot of my money, to a sublet that I had in the East Village. And that sublet was probably two or three hundred square feet, and I shared it with a stranger. So I had a futon in what was my room, and the room was so small the futon wouldn't lay flat. There was no fear, there was no trepidation. It was just pure, unbridled enthusiasm. It was excitement for what was to come. It was me realizing something that had once felt unattainable, and now it was in the palm of my hand. I think the channel started in 2010. And then I think Bike Lanes was 2011, and then Make It Count was like 2012 or 2013. And it was those two and a couple of other ones around there that really like took it from zero to a hundred. The day to day now is all about my tech company, Beam. We are in the hands of thousands of thousands of users that are using our platform every single day. So the minute to minute is about making that product better for them. This is what sharing on Beam looks like. There's no staring at the phone, you just hold it to your chest and it records, and then it's posted. That's it. I love sharing more than anything else, and sharing in any and every way possible is how I describe the umbrella that all of my little more specific ambitions live under. But that inflection point, that moment, leaving Connecticut, leaving what was a life that very easily could have been my entire trajectory. Working in kitchens, living in a trailer park, struggling and being miserable. Making the decision to leave that and embrace something that was certainly terrifying, that was unknown, that was undetermined in every capacity. That inflection point, that decision has been the most pivotal decision of my entire life.\n",
      "Transcript for gs://mickael-dm-stt/source/chirp/audio/en-US/x8n0jf1.flac:  I'm Flyin. And I'm Bobby. I'm from Dallas. I'm from Detroit. And we're Flyin' Abos. We make music for the girls, the gays, and the bays. And every other disenfranchised group out there that doesn't have a voice. We want to empower the unempowered. Yeah, Black Girls Up 1. The weird ones up 2. Our group name Flyin' Abos has a lot of dimensions to it. She came up with it, really. She went to sleep one night. She woke up. There's this big picture of Diana Ross. And she said, Flyin' Abos. Exactly. And then later on, I figured I was like, you're Fly and a boss. So Flyin' Abos it is. Yeah. I'm a great fuck, but a better lover. Open, carry, pussy, lethal, like I'm Danny Glover. I might steal a bike, drive it through the suburbs. Got your daddy cuffed up like he undercover. When we were writing this song, we were like, we need a bar at the very beginning. Like a standout bar that's going to smack people in the face. Yeah, they just go, what did they just say? We ended up with, I'm a great fuck, but a better lover. Because we're better lovers than we are fucks. Yeah. This is also the first time we ever said pussy in a song twice. Each of us say it, too. Yeah, I've never seen Lethal Weapon. But yeah, but I was like, Danny Glover's in that movie. Let's rhyme undercover with Danny Glover. Prop top, low waist, tiny titties in your face. Drop top, big subs, I'm like Nikki Superbase. Got your windows fogged up, cause I'm hot like Nellie. I know what you want, so get in my. We love Nikki so much. She's like a big part of our daily life. Like we're always quoting Nikki bars. Like our favorite verse of all time is her verse in Rake It Up. I could genius dissect that right now if you want. Brought out the pink Lamborghini, just a race in China. Brought the rave to China, just a race in China. So good. So Nikki's influence is always there. Heavy, heavy. Heavy on it. In order to be that bitch, you just have to like love yourself, love others, be kind, be respectful. And that will give you a path to being the best you. You could never be us. Yeah. You could also be that bitch. You could. You can be that bitch, but not these bitches. Yeah. Hello Christ, I'm about to sin again. I said I love you to them, but I'm not feeling him. Hello Christ, it's like forgive me, Father, I have sinned. Exactly. But it's like, I'm gonna just tell you, I'm gonna sin again. Right. And then we were like, OK, what's the sin? What's a good sin, but what's like a sweet sin? Yeah, that's not too bad, but like. Like something that we would think is a sin is like telling a man that you love him, but you know you don't. Like you're not feeling him. That is like a sin. Yeah. Also the verdict's out. I lied, I was feeling him. I really was. I'm made of sugar, spice, cannecalon, and cinnamon. Powerpuff girls have been like a theme since we started, like, you know, sugar, spice, you know, everything. Yeah. Whatever. The X. The X, cannecalon, X, all of that. But I was like, OK, what are we actually made of? And it's cannecalon. It's a daily part of both of our lives. We both braid our hair. It's such a great, fun word to say, too. Yes. Me and my bestie are the same, like a synonym. We're the same, but different. Yeah. Which is a synonym. Yeah. Like it's not the exact same word, but it means the same thing. Yeah. So we are like a synonym. And we're answer is syn again and cinnamon, so we put it in. I be Michael Phelps, all the brand deals that I'm swimming in. When we wrote the brand deal line, we had zero brand deals. Zip. But now we have a couple. Manifestation is real. Yeah. You can call me Dr. Evil, because I got many men. That line just felt like a layup. Like I think it just came. I was like, oh, Dr. Evil, many men. Many men. Many men. Also all the henchmen. He has so many henchmen. And then many me. Everything. It just came together. Yeah. Invested in this pussy and this shit is paying dividends. Slap a bitch, bitch, slap back, because I'm feminine. I think it's important to invest in your pussy. Financially, spiritually, a wax maybe, worship your own pussy. You know, all of that. It's important to take the time to invest in your pussy, but also invest in yourself, your human body, and who you are, and your spirituality, and all of that. And that's what that line represents. Our very first video of us running was in the suburbs. OK? We just picked a random street, and we were like, let's run on the street. And we did it to the first verse. And we talked about it. We weren't sure if we should both be running at the same time together, but then eventually we came to the conclusion that I'm just going to hop in whenever. So I stood down the street and waited for them. And then we've been running ever since. Yes.\n",
      "Transcript for gs://mickael-dm-stt/source/chirp/audio/en-US/x8n29uv.flac:  Uber's CEO has accidentally revealed that he doesn't know how much rides cost on his own app. In an interview with Wiredar Khasrashahi was asked how much he thought a three mile Uber ride in New York cost. His answer was 20 bucks before being told the total was $50 and the CEO was shocked. Khasrashahi responded with, oh my God, wow. And that was before he found out the $50 was on the lower end due to surge pricing. Surge pricing is when prices increase for goods or services during peak demand time. So sometimes a three mile ride in New York in an Uber can cost an upward of $70. And that suggests that Uber's prices are continuing to rise. Khasrashahi addressed this issue saying, everything is more expensive, inflation has become a part of our everyday lives. He also mentioned that Uber is seeing audience growth. So while prices are higher, he said it certainly hasn't hurt the business.\n",
      "Transcript for gs://mickael-dm-stt/source/chirp/audio/en-US/x8n38du.flac:  You know, I knew for a fact, even before the broadcasters, all the broadcasters in Europe were so negative about taking up the... What's the word I'm looking for? The rights. The rights, taking up the rights. I'm quite pleased that in the end, you know, it's like one of the most attended, one of the most watched. You know, and it's embarrassed them really, because like I believe that the women's game is... It's like a new startup business. It needs investment. It needs to be given time. And I would like to have seen the broadcasters put that money in and give it the investment that it needs, because what we're seeing now is, like we're saying, record attendances, viewing figures. You know, the girls have delivered. And I'm really pleased about that. I'm really pleased for them.\n",
      "Took 591.9796450138092 to execute\n"
     ]
    }
   ],
   "source": [
    "import whisper\n",
    "import time\n",
    "import re\n",
    "from google.cloud import storage\n",
    "\n",
    "whisper_model=whisper.load_model(model)\n",
    "\n",
    "# Instantiates a Cloud Storage client\n",
    "storage_client=storage.Client()\n",
    "bucket = storage_client.bucket(gcs_bucket)\n",
    "\n",
    "start_time = time.time()\n",
    "\n",
    "for file in file_array:\n",
    "    transcript=whisper_model.transcribe(file[\"local_uri\"], fp16=False)\n",
    "    print(f\"Transcript for {file['gcs_uri']}: {transcript['text']}\")\n",
    "\n",
    "    transcript_path=f\"{gcs_transcripts_path}/whisper_{model}\"\n",
    "    transcript_id=re.search(\"(\\w+)\\.flac$\",file[\"gcs_uri\"]).group(1)\n",
    "    #print(f\"gs://{gcs_bucket}/{transcript_path}/txt/{transcript_id}.txt\")\n",
    "    \n",
    "    # Instantiates a Cloud Storage client\n",
    "    blob=bucket.blob(f\"{transcript_path}/txt/{transcript_id}.txt\")\n",
    "    blob.upload_from_string(transcript[\"text\"])\n",
    "    \n",
    "duration = time.time() - start_time\n",
    "print(f\"Took {duration} to execute\")\n",
    "\n",
    "#result = whisper_model.transcribe(\"sound/fr-FR/x8n3qv2.flac\", fp16=False)\n",
    "#print(result[\"text\"])\n",
    "\n",
    "#gs://mickael-dm-stt/transcripts/chirp/txt/x8n3ssu.txt"
   ]
  }
 ],
 "metadata": {
  "environment": {
   "kernel": "python3",
   "name": "common-cpu.m110",
   "type": "gcloud",
   "uri": "gcr.io/deeplearning-platform-release/base-cpu:m110"
  },
  "kernelspec": {
   "display_name": "Python 3",
   "language": "python",
   "name": "python3"
  },
  "language_info": {
   "codemirror_mode": {
    "name": "ipython",
    "version": 3
   },
   "file_extension": ".py",
   "mimetype": "text/x-python",
   "name": "python",
   "nbconvert_exporter": "python",
   "pygments_lexer": "ipython3",
   "version": "3.10.12"
  }
 },
 "nbformat": 4,
 "nbformat_minor": 5
}
