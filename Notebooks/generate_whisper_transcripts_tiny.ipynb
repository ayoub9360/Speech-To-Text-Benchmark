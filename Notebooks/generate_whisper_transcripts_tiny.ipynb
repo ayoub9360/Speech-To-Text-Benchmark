{
 "cells": [
  {
   "cell_type": "code",
   "execution_count": 24,
   "id": "ecfc97a4-4c2c-48d3-8b6e-ae4b70d6612b",
   "metadata": {},
   "outputs": [],
   "source": [
    "gcs_bucket=\"mickael-dm-stt\"\n",
    "gcs_transcripts_path=\"transcripts\"\n",
    "model=\"tiny\""
   ]
  },
  {
   "cell_type": "code",
   "execution_count": 25,
   "id": "37108fd4-fbde-4a47-8be6-23a4b2cb7393",
   "metadata": {},
   "outputs": [
    {
     "name": "stdout",
     "output_type": "stream",
     "text": [
      "[{'gcs_uri': 'gs://mickael-dm-stt/source/chirp/audio/fr-FR/x8mmzj2.flac', 'language_code': 'fr-FR'}, {'gcs_uri': 'gs://mickael-dm-stt/source/chirp/audio/fr-FR/x8mv7he.flac', 'language_code': 'fr-FR'}, {'gcs_uri': 'gs://mickael-dm-stt/source/chirp/audio/fr-FR/x8n3e82.flac', 'language_code': 'fr-FR'}, {'gcs_uri': 'gs://mickael-dm-stt/source/chirp/audio/fr-FR/x8n3jhn.flac', 'language_code': 'fr-FR'}, {'gcs_uri': 'gs://mickael-dm-stt/source/chirp/audio/fr-FR/x8n3qv2.flac', 'language_code': 'fr-FR'}, {'gcs_uri': 'gs://mickael-dm-stt/source/chirp/audio/fr-FR/x8n3ssu.flac', 'language_code': 'fr-FR'}, {'gcs_uri': 'gs://mickael-dm-stt/source/chirp/audio/en-US/x58y7eg.flac', 'language_code': 'en-US'}, {'gcs_uri': 'gs://mickael-dm-stt/source/chirp/audio/en-US/x8n0jf1.flac', 'language_code': 'en-US'}, {'gcs_uri': 'gs://mickael-dm-stt/source/chirp/audio/en-US/x8n29uv.flac', 'language_code': 'en-US'}, {'gcs_uri': 'gs://mickael-dm-stt/source/chirp/audio/en-US/x8n38du.flac', 'language_code': 'en-US'}]\n",
      "Number of files: 10\n"
     ]
    }
   ],
   "source": [
    "fr_gcs_uris=!(gsutil ls gs://{gcs_bucket}/source/chirp/audio/fr-FR)\n",
    "file_array=[]\n",
    "for uri in fr_gcs_uris:\n",
    "    file_array.append({\"gcs_uri\": uri,\"language_code\": \"fr-FR\"})\n",
    "\n",
    "en_gcs_uris=!(gsutil ls gs://mickael-dm-stt/source/chirp/audio/en-US)\n",
    "for uri in en_gcs_uris:\n",
    "    file_array.append({\"gcs_uri\": uri,\"language_code\": \"en-US\"})\n",
    "print(file_array)\n",
    "number_of_files=len(file_array)\n",
    "print(f\"Number of files: {number_of_files}\")"
   ]
  },
  {
   "cell_type": "code",
   "execution_count": 28,
   "id": "cf8f200d-ca75-4c1b-9fcd-1cb7644931dc",
   "metadata": {},
   "outputs": [
    {
     "name": "stdout",
     "output_type": "stream",
     "text": [
      "[{'gcs_uri': 'gs://mickael-dm-stt/source/chirp/audio/fr-FR/x8mmzj2.flac', 'language_code': 'fr-FR', 'local_uri': 'sound/fr-FR/x8mmzj2.flac'}, {'gcs_uri': 'gs://mickael-dm-stt/source/chirp/audio/fr-FR/x8mv7he.flac', 'language_code': 'fr-FR', 'local_uri': 'sound/fr-FR/x8mv7he.flac'}, {'gcs_uri': 'gs://mickael-dm-stt/source/chirp/audio/fr-FR/x8n3e82.flac', 'language_code': 'fr-FR', 'local_uri': 'sound/fr-FR/x8n3e82.flac'}, {'gcs_uri': 'gs://mickael-dm-stt/source/chirp/audio/fr-FR/x8n3jhn.flac', 'language_code': 'fr-FR', 'local_uri': 'sound/fr-FR/x8n3jhn.flac'}, {'gcs_uri': 'gs://mickael-dm-stt/source/chirp/audio/fr-FR/x8n3qv2.flac', 'language_code': 'fr-FR', 'local_uri': 'sound/fr-FR/x8n3qv2.flac'}, {'gcs_uri': 'gs://mickael-dm-stt/source/chirp/audio/fr-FR/x8n3ssu.flac', 'language_code': 'fr-FR', 'local_uri': 'sound/fr-FR/x8n3ssu.flac'}, {'gcs_uri': 'gs://mickael-dm-stt/source/chirp/audio/en-US/x58y7eg.flac', 'language_code': 'en-US', 'local_uri': 'sound/en-US/x58y7eg.flac'}, {'gcs_uri': 'gs://mickael-dm-stt/source/chirp/audio/en-US/x8n0jf1.flac', 'language_code': 'en-US', 'local_uri': 'sound/en-US/x8n0jf1.flac'}, {'gcs_uri': 'gs://mickael-dm-stt/source/chirp/audio/en-US/x8n29uv.flac', 'language_code': 'en-US', 'local_uri': 'sound/en-US/x8n29uv.flac'}, {'gcs_uri': 'gs://mickael-dm-stt/source/chirp/audio/en-US/x8n38du.flac', 'language_code': 'en-US', 'local_uri': 'sound/en-US/x8n38du.flac'}]\n"
     ]
    }
   ],
   "source": [
    "import re\n",
    "from google.cloud import storage\n",
    "import os\n",
    "\n",
    "storage_client = storage.Client()\n",
    "bucket = storage_client.bucket(gcs_bucket)\n",
    "\n",
    "for file in file_array:\n",
    "    regex=f\"gs://{gcs_bucket}/(.*)/(\\w+.flac)$\"\n",
    "    path,filename=re.search(regex,file[\"gcs_uri\"]).group(1,2)\n",
    "    local_uri=f\"sound/{file['language_code']}/{filename}\"\n",
    "    # Fetch results from Cloud Storage\n",
    "    blob = bucket.blob(path+\"/\"+filename)\n",
    "    \n",
    "    if not os.path.exists(f\"sound/{file['language_code']}/\"):\n",
    "            os.makedirs(f\"sound/{file['language_code']}/\")\n",
    "    blob.download_to_filename(local_uri)\n",
    "    file[\"local_uri\"]=local_uri\n",
    "    \n",
    "print(file_array)"
   ]
  },
  {
   "cell_type": "code",
   "execution_count": 27,
   "id": "6b48d547-204b-4950-abb1-4c1e65b41fa6",
   "metadata": {},
   "outputs": [
    {
     "name": "stdout",
     "output_type": "stream",
     "text": [
      "Transcript for gs://mickael-dm-stt/source/chirp/audio/fr-FR/x8mmzj2.flac:  On va d'abord parler du Ka'li-Wai, si tu veux bien. Clairement, donc du coup annoncé, en tout cas, du côté de Strasbourg, on le rappelle Strasbourg a été racheté par le consortium Blueco qui a acheté il y a un peu plus d'un nom maintenant chez le site avec les conséquences qu'on connaît. Voilà, là, Wai, si on en parle, c'est que ça paraît assez fou de voir Strasbourg ce positionné tube, parce que, à 20 ans, il a montré de très très bien de choses en l'hénergheur avec 19 buts, on sait qu'il y avait plusieurs gronnons dessus de Jolinnon, notamment chez le site évidemment. Et que voilà, ça va leur marcher en estimer à 25 et 40 millions, ce qui paraît, il y a encore quelques temps d'estomme complètement hallucinante pour Strasbourg. Mais dans un monde normal, c'est une semaine. Ouais, voilà, pour Strasbourg, mais le monde se trache aux jaunes et n'est plus normal. Exactement. C'est déjà bien du record, voilà, c'est que rien d'acheté, un défenseur central de 20 ans. Ouais, à bacard s'il a pour 22 millions d'euros pour vous situer, le plus gros transfert de l'histoire de l'un picillonne, c'est Jeff Renadellaide à 25 millions d'euros. Le plus gros transfert de reine, c'est Gouirie à 28. L'île, c'est David à 27 et LOM, c'est viteigné à 32. En gros, Strasbourg, il va se sais-tu qu'il y a. Alors que Strasbourg n'a pas eu la vente qu'a eu l'île notamment avec Nicolas P.P. Capiaux-Aurlieron par le passé. Donc en gros, c'est de l'argent en frais complètement nouveau. On va rester sur le Kaway, et on va dire une chose très concrète au Y. Nous dois jamais atterrir à Strasbourg dans un monde normal, ça n'a aucun sens c'est un joueur qui a 20 ans, tu l'as dit, on doit le voir en niveau supérieur, oui, on doit le voir dans un plus gros clà français. Ouais, mais ce que Strasbourg, qui joue potentiellement l'Europe, on a envie de voir ce que ça donne et l'île-Y. Alors, peut-être pas en l'île des champions, mais au moins, en l'île-Europe, voilà, ce fait un vrai avis sur l'île-Y. Parce que si la théorie à Strasbourg, il aura gros son mot de même calendrier, qu'à mon polier, ouais. Et alors, le saut de salaire, mais l'intérêt des liouilles, la dentille de l'île-Y. C'est de signer avec la grosse structure de Chelsea, mais est-ce qu'il a la garantie d'un joueur à thérérat Chelsea? Au qu'une, au qu'une, et moi, c'est ce qui m'embête là-dedans, c'est que finalement, les seules gagnants dans la fère, c'est Chelsea à l'on terme, parce que... Possible, possiblement, si les liouilles exploseront récupéré un super attaquant, Strasbourg, ils sont gagnants, mais à court terme, parce que si ça se passe bien, que soit se passe bien, que ça se passe mal, finalement, et les liouilles, fraînent ce zone. Oui, c'est ça. Donc bon l'intérêt, il est quand même limité sur le long terme. Et puis au niveau du joueur, moi, ce qui m'interpelle, c'est qu'on a déjà vu, à quel point, par le passé, le système des prépouvés d'estcrire la carrière des joueurs. On a beaucoup parlé, que ce soit dans l'FC, ce serait petit, on m'aardé Marquetteau, d'Alfonso Aurella, mais Chelsea aussi, avec quelques exemples assez marquants, Bertrand Traour et Kevin De Bruine. On entend du parlise, on réussit, c'est des joueurs qui ont très peu porté le mailleux Chelsea, et Chelsea, simplement utiliser pour faire de l'argent. On peut très bien voir la même chose pour le liouilles. Et à l'inverse, si ça se passe mal, vous pouvez avoir votre carrière flangue, et je vous prends un exemple, je me suis amusé à retracer ça, un argentin qui s'appelle Lucas Piedon, qui avait signé pour 7,5 millions de euros à Chelsea en 2013. Ah, c'est une nouveau craque, etc. Il a eu des prêts, Malaga, vite et s'arrêne, Frank Ford, Réding, Foulam, qui est vauverone, Rioavé, avant d'être libéré en 2021, pour Braga. On n'est pas sur la caillère du siècle, et on peut même dire que, à être prétés d'une saison, de saison, en déclèves différents, c'est impossible pour un joueur à part d'être un extrait de biennes développé. Et même les extrait de lait sera traînée à se reprenner les six premiers mois de maissière Paris. Voilà, ça reste des instruments, donc on ne peut pas les envoyer à droite à gauche, en se disant, c'est un bon employé qui va être rentable au boutique, à Santa, au quinquence. Donc, dans la fère, ce qui me gène, c'est que les clubs français sont très contentes, parce qu'ils récupèrent sans doute des joueurs, qui sont inaccessibles pour eux au premier abord, mais par contre, la logique, elle est uniquement en faveur du plus gros, et le joueur et même le club qui récupère ce joueur-là, à courir moins intermes, les risques qui sont énormément enlicibles.\n",
      "Transcript for gs://mickael-dm-stt/source/chirp/audio/fr-FR/x8mv7he.flac:  On peut être sûr que là on vit ces volumement la réalité. Quand vous allez vous apercez voir que ce que vous croyez est la réalité, n'est pas forcément six sur que ça, ça va mettre le servant en ébullition. On va pas demander si la terre aller ronde ou plat, on va juste imaginer que vous êtes sur le d'oroute en voiture, depuis un moment où vous êtes seul sur le d'oroute, vous voyez les panneaux défiés, et tout d'accue vous croisez une voiture à contre-senseur votre voix. Mentalement dans votre réalité, vous allez vous dire que cette voiture est à contre-sensez en 300. C'est assez léger, qui l'adrénaline en redescend. Et là vous croisez une deuxième voiture à contre-senseur. Vous savez qui vait dans votre cerveau en vieil cognitive, qui s'appelle le billet de conformisme. Ça veut dire que vous vous liéz ou non, que votre cerveau va remettre en cause, je le fais que vous soyez dans le bon sens, parce que vous avez vu plus d'une personne, donc plus que vous allez dans votre sens. Il y a que de point de référence en deux personnes qui allez dans un certain sens, et vous tout seul qui alliez dans un autre sens. Et bien même si ça fait une heure que vous êtes sur l'aroute, que vous avez pris la bonne voix, vous en êtes sûr, que vous avez vu les panneaux dans votre sens d'électure à vous, et pas de dos, vous allez commencer à de vous t'éder la réalité, de ce que vous croyez à de vrai. Et le vieit de conformisme, ça marche pour pas mal de choses pour les sondages, pour les avis d'une manière générale, qu'on l'admettent non, on attend en s'appensez, et agir comme les autres, qui t'adoutais de notre propre réalité. Est-ce que vous êtes sûr ? Par exemple, la mettre dans tout de suite, que vous n'êtes pas dans un rêve. Allez, à cette question, parce que, à partir d'avéyer, vous n'avez pas de moyen de le savoir. Du coup, il y a une seule chose dans les sur. C'est que je m'appelle toujours Fabio Lika, je suis toujours m'autaliste, à très bientôt de chao.\n",
      "Transcript for gs://mickael-dm-stt/source/chirp/audio/fr-FR/x8n3e82.flac:  Armen Tartou A mael moudou Bende le moi doutou Notre histoire n'aurait jamais pu finir dans le cul mais la tambreuse La cocaïne, la cocaïne a reprime à famille Jus une plan d'estine, une plan d'estine à mi-a-mi Et tu n'as vie, que pour les caméras\n",
      "Transcript for gs://mickael-dm-stt/source/chirp/audio/fr-FR/x8n3jhn.flac:  N'ox-Stag, déjà des pensées 4,000 euros pour les restes alors qu'il n'a même pas vraiment commencé. Ce weekend on a une vidéo assez mouvement de dinoxe dans laquelle il a monté le monde blanc. Elle m'ont servant dans la fouleée, deux des plus gros sommets d'euros. J'avoue que le moment où il descend en parachute, j'avais des frissons et tout bon. En gros, et comment se vraiment achouffer à 8 mois de l'ébrece ? 6 mois c'est... 6 pèrent mon ventage et je crois. Globalement, à part un petit vommie, un petit problème de cardio, techniquement il est autobre. Donc moi, je crois vraiment qu'il y va l'a réussir. Et vous vous rappelez, je vous avais dit que c'était un gros budget l'ébrece. C'est un clé de bref des chers et on trouve deux insensions. Nous arrivés les cas avec le bateau, l'entraînement, les montagnes, il a déjà dépensé 4,000 bales. Bon, il a trouvé un sponsor. C'est le cours de l'ébrece. Il veut être sécurisé au marque, c'est sans tourer des meilleurs et la bien raison. Mais il n'est même pas un 10e de ces dépenses. En fait, la pini c'est intense. C'est quand même un sport qui pout de chers. Vous dépensiez qu'il va réussir, vous ?\n",
      "Transcript for gs://mickael-dm-stt/source/chirp/audio/fr-FR/x8n3qv2.flac:  Est-ce que tu savais que Minecraft est une matière dans certaines écoles? Il est d'une version educative de Minecraft, elle s'appelle Minecraft et d'us, c'est une version basée sur le bedroque et elle a quelques fonctionnalités en plus pour permettre une utilisation plus simple dans les sales de classe. Car oui, dans certaines écoles, le jeu est même devenu une matière à parentière. Cette version du jeu propose un système muti-voire pour 40 personnes, une belle salle de classe quoi? Une fonctionnalité porte-foliourling pour que les élèves puissent montrer l'avancée de leur travaux et les profs ont accès à un panel de cours sur mesure spécialement conçu pour l'enseignement. Ça paraît fou quand même, tu le savais?\n",
      "Transcript for gs://mickael-dm-stt/source/chirp/audio/fr-FR/x8n3ssu.flac:  Tool Track MC Gravitycolorスト自 Style Advanced Creator究 S tu Product Safe Intelligent Bookolon Colors Tr Mighty Plug A eyelash Sur Clamp your Pull Tr Mighty Intl projekt eyeshadow From seek Bray ant Journal Mix Monthly Stretch Int shocking centigrade Shooting Win Print U.S. B Spiritual zooming Out It'sHi Behind You Pretending Go Phantom Happy Fan Hero Dude Final Judaism irr shall follow Vire Doub And Alter JD & wines You Bad H Dead Dead new N Real teenagers Foundation N New Democrat Virtual F Grad frog Reschool Fe compost F Fuck Not Need F Be quickword как i I All六 unterschied Five Fight grandjourner\n",
      "Transcript for gs://mickael-dm-stt/source/chirp/audio/en-US/x58y7eg.flac:  I remember getting a detention or suspended for skateboarding in the hallways. I'm principal saying if you think you're going to grow up and be able to skateboard through the halls of your office, you got another thing coming. I built a half-pipe in my office a few years ago just so I could skateboard while I worked. My name's Casey Neistat and I'm a filmmaker and a YouTuber and a business owner and a dad. I wear a lot of hats. человек sixteen. Friendship was majoring in sustainability on Tuesday. What advanced building was allowed by Nationalian manufacturer of a largest trash crédit of $41.ixe where the project was reviewed.akhye. Accounting was sales for the project. Water洗er which was used in zero access services. As born in Southeastern Connecticut in a town called Gilles Ferry which is like a little kind of nothing town. I got in a lot of trouble as a kid. I got a lot of trouble in grammar school just for being bad. It wasn't a lack of respect for authority. It was that I disagreed with the authority. As I was just being told things, I just didn't agree with. And if I didn't agree with it, why should I subscribe to it? Like how described so much of what I experienced and so much of the guidance I was given right up until my teenage years as straight to the middle. Like yes, you want an average job in an average life. Here's the instruction mail to do it. If you don't follow these rules, you are wrong. And I didn't believe in that. I didn't subscribe to that. My frustration was every time I pushed back against that, I'd be pushed down by the authority figures because I would be wrong. My fucking hated that. Like that frustration was huge for me. That was running into it, everywhere I went. So I left. I'm ran away from home when I was like 15 years old. I moved in with these two girls. It took me about six weeks to get one of them pregnant. And then I had a baby like two weeks after my 17th birthday. So that was a pivotal moment in my life. We were as poor as poor could be. We're on welfare. We got free milk and diapers from the state. But I had a job. I was a dishwasher and I had like a regular income. It's $320 a week. I literally moved into a trailer park. And then my son's mother dumped me when he was about two years old. For all the right reasons. And that's when I started to kind of panic. And it was also the same time that I was introduced to video editing via the new at the time, 1999, the new IMAQ, which I had. I moved version 1.0 on it. I remember the first time I played with that, I was like, wow, this is a way of taking these ideas and turning them into something that I could then share. And that was a profound moment for me in my life. I, for the first time, didn't have any reason to be in Southeastern Connecticut. I felt sort of an impetus to do something more. And I know idea what that more was. But I knew it couldn't be accomplished in Connecticut. I knew I had to get out. And that's why I made the decision to move to New York City. New York City has always been sort of an object of a session for me. It's been something that I had been obsessed. And I've romanticized something that I've fixed 80 times since I was a kid. I was June 4th, 2001, and I moved to New York City on a train on an Amtract train. So it was everything that I could take with me on a train, which was fairly limited. So it wasn't a lot. It was a Duffel bag in an IMAQ, more than each hand. And I took it to Penn Station and from there took a taxi, which was like a lot of my money. To a sublet that I had in the East Village. And that sublet was probably 200,300 square feet. And I shared it with a stranger. So I had a futon in what was my room and the room was so small that futon wouldn't lay flat. There was no fear. There was no trepidation. It was just pure, unbridled enthusiasm. There was excitement for what was to come. It was me realizing something that had once felt unattainable and now it was in the palm of my hand. I'm the channel started in 2010. And then I think bike lanes was 2011. And then make it count was like 2012 or 2013. And it was those two and a couple of other ones around there that really took it from 0 to 100. The day today now is all about my tech company beam. We are in the hands of thousands of thousands of users that are using our platform every single day. So the minute to minute is about making that product better for them. This is what sharing on beam looks like. There's no staring at the phone. You just hold it to your chest and it records. And then it's posted. That's it. I love sharing more than anything else. And sharing in any and every way possible is how to describe the umbrella that all of my little more specific ambitions live under. But that inflection point, that moment, leaving Connecticut, leaving what was a life that very easily could have been my entire trajectory. Working in Kitchens, living in a trailer park, struggling and being miserable, making the decision to leave that and embrace something that was certainly terrifying. That was unknown. That was undetermined in every capacity. That inflection point, that decision has been the most pivotal decision of my entire life.\n",
      "Transcript for gs://mickael-dm-stt/source/chirp/audio/en-US/x8n0jf1.flac:  I'm Folian and I'm Bobby. I'm from Dallas. I'm from Detroit. And we're fine across. We make music for the girls, the gays, and the days. And every other disenfranchised group out there that doesn't have a voice. We want to empower the unempowered. Yeah, black girls up one. The weird ones up two. Ha ha. Our group name, Folian Abos, has a lot of dimensions to him. And it's multi-layered. She came up with it, really. She went to sleep one night. She woke up. There's this big picture of Diana Ross and she said, fly Anna. Boss. Exactly. And then later on I figured I was like your fly and Abos. So flyin' Abos it is. Yeah. I'm a great fuck, but the better lover, open carry, pussy lethal. Like I'm Danny Glover. I might still a bike, drive it through the suburbs. Got your daddy cuffed up like he undercover. When we were writing this song, we were like, we need a bar. It's a very big thing. But they stand out bar. It's kind of like smack people in the face. Yeah, they just go, what do they just say? We ended up with I'm a great fuck better, better lover. Because we're better lovers than we are. Fuck. Yeah. We ever said pussy in a song twice. Each of us think it too. Yeah, I've never seen lethal weapon. But yeah, but I was like Danny Glover's and then we'll be less around undercover with Danny Glover. Prop top low waist, tiny titties in your face. Strap top big subs. I'm like Nikki Superbase. Got your windows fogged up because I'm hot like Nelle. I know what you want. So get Emma. We love Nikki so much. She's like a big part of our daily life. Like we're always quoting Nikki bars. Yeah. Favorite verse of all time is her verse and rake it up. I could genius dissect that right now if you want. Brought out the pink lemon. Nikki just erased and shine a broth of rift. The China just erased and China so good. So Nikki's influence is always there. Heavy, heavy. Heavy on it. Get like me. Now you wish you could never ever be that bitch. Get like me. Now you wish you could never ever ever ever be that bitch. In order to be that bitch, you just have to like love yourself. Love others be kind. Be respectful. And that that will give you a path to being the best you. You could never be us. Yeah. You could also be that bitch. But you can be that bitch. Yeah. But not these bitches. Yeah. Hello Christ. I'm about to sin again. I said I love you to them. Man, but I'm not feeling him. Hello Christ. It's like forgive me father. I have sin. Exactly. I'm just telling you I'm a sin again. Right. And then we were like okay what's the good sin? But what's like a sweet sin? Yeah, it's not too bad. But like something that we would think is a sin is like telling a man that you love him. But you have to. But you have to. And I cannot feel in him. That is like a sin. Yeah. Also the verdicts out. I lied. I was feeling him. I really was. I made a sugar spice. Can that call on in cinnamon? Harp of growth have been like a theme since we started. Like sugar spies. You know, everything. Yeah. I was like, okay, what are we actually made of? And then that call. Connect a lot. It's a daily part of both of our lives. You both braid our hair. It's such a great fun word to say to you. And my bestie all the same, like a sin in them. We're the same but different. Which is a sin in them. Yeah. Like that's the exact same word. It means the same thing. Yeah. So we are like a sin in them. No one's a sin again in cinnamon. So we put it in. I'll be Michael Phelps. All the brand deals that I'm swimming in. When we wrote the brand deal line, we had zero brand deals. Zip. But now we have a couple. Manifestation is real. Yeah. You can call me Dr. Evil because I got many men. I thought I just felt like a layup. Like I think it just came out. I was like, oh, Dr. Evil, many men. Many men. Many men. Also all the henchmen. He has so many henchmen. Mm-hmm. And then many me. Everything. It just came together. Yeah. Invested in this pussy and the shit is paying dividends. Slap a bitch, bitch, slap back. Because I'm feminine. I think it's important to invest in your pussy. Financialy, spiritually, a wax, maybe, a worship your own pussy. You know, all of that. It's important to take the time to invest in your pussy. But also invest in yourself. You're human body and who you are in your spirituality and all of that. And that's what that line represents. Our very first video of us running was in the suburbs. Okay. We just picked a random street and we were like, let's run a street. And we did it to like the first verse. And like we talked about it. We weren't sure. We should both be running at the same time together. But then eventually we came to the conclusion that I'm just gonna hop in whenever. So I like stood down the street and waited for them. And we've been running ever since. Yeah.\n",
      "Transcript for gs://mickael-dm-stt/source/chirp/audio/en-US/x8n29uv.flac:  Uber CEO has accidentally revealed that he doesn't know how much rights cost on his own app. In interviews, why are D'ArcasoShah he was asked how much he thought a 3-mile Uber ride in New York cost? His answer was 20 bucks before being told the total was $50 and the CEO was shocked. CosmoShah he responded with, oh my god, wow. And that was before he found out the $50 was on the lower end due to surge pricing. Surge pricing is one price increase for goods or services during peak demand time. So sometimes a 3-mile ride in New York in an Uber can cost an upward of $70. And that suggests that Uber's prices are continuing to rise. AsoShah he addressed this issue saying everything is more expensive and inflation has become a part of our everyday lives. He also mentioned that Uber is seeing audience growth so while prices are higher, he said it certainly hasn't hurt the business.\n",
      "Transcript for gs://mickael-dm-stt/source/chirp/audio/en-US/x8n38du.flac:  I knew for a fact, even before the broadcasts, all the broadcasts in Europe were so negative about taking up the rights and I'm quite pleased that in the end it's like one of the most attended one of the most watched and it's embarrassed them really because like I believe that the women's game is, it's like a new start of business, it needs investment, it needs to be given time and I would like to have seen the broadcasts put that money in and give it the investment that it needs because what we're seeing now is like we're saying record attendances, viewing figures, the girls have delivered and I'm really pleased about it, I'm really pleased for them.\n",
      "Took 147.96423292160034 to execute\n"
     ]
    }
   ],
   "source": [
    "import whisper\n",
    "import time\n",
    "import re\n",
    "from google.cloud import storage\n",
    "\n",
    "whisper_model=whisper.load_model(model)\n",
    "\n",
    "# Instantiates a Cloud Storage client\n",
    "storage_client=storage.Client()\n",
    "bucket = storage_client.bucket(gcs_bucket)\n",
    "\n",
    "start_time = time.time()\n",
    "\n",
    "for file in file_array:\n",
    "    transcript=whisper_model.transcribe(file[\"local_uri\"], fp16=False)\n",
    "    print(f\"Transcript for {file['gcs_uri']}: {transcript['text']}\")\n",
    "\n",
    "    transcript_path=f\"{gcs_transcripts_path}/whisper_{model}\"\n",
    "    transcript_id=re.search(\"(\\w+)\\.flac$\",file[\"gcs_uri\"]).group(1)\n",
    "    #print(f\"gs://{gcs_bucket}/{transcript_path}/txt/{transcript_id}.txt\")\n",
    "    \n",
    "    # Instantiates a Cloud Storage client\n",
    "    blob=bucket.blob(f\"{transcript_path}/txt/{transcript_id}.txt\")\n",
    "    blob.upload_from_string(transcript[\"text\"])\n",
    "    \n",
    "duration = time.time() - start_time\n",
    "print(f\"Took {duration} to execute\")\n",
    "\n",
    "#result = whisper_model.transcribe(\"sound/fr-FR/x8n3qv2.flac\", fp16=False)\n",
    "#print(result[\"text\"])\n",
    "\n",
    "#gs://mickael-dm-stt/transcripts/chirp/txt/x8n3ssu.txt"
   ]
  }
 ],
 "metadata": {
  "environment": {
   "kernel": "python3",
   "name": "common-cpu.m110",
   "type": "gcloud",
   "uri": "gcr.io/deeplearning-platform-release/base-cpu:m110"
  },
  "kernelspec": {
   "display_name": "Python 3",
   "language": "python",
   "name": "python3"
  },
  "language_info": {
   "codemirror_mode": {
    "name": "ipython",
    "version": 3
   },
   "file_extension": ".py",
   "mimetype": "text/x-python",
   "name": "python",
   "nbconvert_exporter": "python",
   "pygments_lexer": "ipython3",
   "version": "3.10.12"
  }
 },
 "nbformat": 4,
 "nbformat_minor": 5
}
