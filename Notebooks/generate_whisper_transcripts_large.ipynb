{
 "cells": [
  {
   "cell_type": "code",
   "execution_count": 1,
   "id": "ecfc97a4-4c2c-48d3-8b6e-ae4b70d6612b",
   "metadata": {},
   "outputs": [],
   "source": [
    "gcs_bucket=\"mickael-dm-stt\"\n",
    "gcs_transcripts_path=\"transcripts\"\n",
    "model=\"large\""
   ]
  },
  {
   "cell_type": "code",
   "execution_count": 2,
   "id": "37108fd4-fbde-4a47-8be6-23a4b2cb7393",
   "metadata": {},
   "outputs": [
    {
     "name": "stdout",
     "output_type": "stream",
     "text": [
      "[{'gcs_uri': 'gs://mickael-dm-stt/source/chirp/audio/fr-FR/x8mmzj2.flac', 'language_code': 'fr-FR'}, {'gcs_uri': 'gs://mickael-dm-stt/source/chirp/audio/fr-FR/x8mv7he.flac', 'language_code': 'fr-FR'}, {'gcs_uri': 'gs://mickael-dm-stt/source/chirp/audio/fr-FR/x8n3e82.flac', 'language_code': 'fr-FR'}, {'gcs_uri': 'gs://mickael-dm-stt/source/chirp/audio/fr-FR/x8n3jhn.flac', 'language_code': 'fr-FR'}, {'gcs_uri': 'gs://mickael-dm-stt/source/chirp/audio/fr-FR/x8n3qv2.flac', 'language_code': 'fr-FR'}, {'gcs_uri': 'gs://mickael-dm-stt/source/chirp/audio/fr-FR/x8n3ssu.flac', 'language_code': 'fr-FR'}, {'gcs_uri': 'gs://mickael-dm-stt/source/chirp/audio/en-US/x58y7eg.flac', 'language_code': 'en-US'}, {'gcs_uri': 'gs://mickael-dm-stt/source/chirp/audio/en-US/x8n0jf1.flac', 'language_code': 'en-US'}, {'gcs_uri': 'gs://mickael-dm-stt/source/chirp/audio/en-US/x8n29uv.flac', 'language_code': 'en-US'}, {'gcs_uri': 'gs://mickael-dm-stt/source/chirp/audio/en-US/x8n38du.flac', 'language_code': 'en-US'}]\n",
      "Number of files: 10\n"
     ]
    }
   ],
   "source": [
    "fr_gcs_uris=!(gsutil ls gs://{gcs_bucket}/source/chirp/audio/fr-FR)\n",
    "file_array=[]\n",
    "for uri in fr_gcs_uris:\n",
    "    file_array.append({\"gcs_uri\": uri,\"language_code\": \"fr-FR\"})\n",
    "\n",
    "en_gcs_uris=!(gsutil ls gs://mickael-dm-stt/source/chirp/audio/en-US)\n",
    "for uri in en_gcs_uris:\n",
    "    file_array.append({\"gcs_uri\": uri,\"language_code\": \"en-US\"})\n",
    "print(file_array)\n",
    "number_of_files=len(file_array)\n",
    "print(f\"Number of files: {number_of_files}\")"
   ]
  },
  {
   "cell_type": "code",
   "execution_count": 3,
   "id": "cf8f200d-ca75-4c1b-9fcd-1cb7644931dc",
   "metadata": {},
   "outputs": [
    {
     "name": "stdout",
     "output_type": "stream",
     "text": [
      "[{'gcs_uri': 'gs://mickael-dm-stt/source/chirp/audio/fr-FR/x8mmzj2.flac', 'language_code': 'fr-FR', 'local_uri': 'sound/fr-FR/x8mmzj2.flac'}, {'gcs_uri': 'gs://mickael-dm-stt/source/chirp/audio/fr-FR/x8mv7he.flac', 'language_code': 'fr-FR', 'local_uri': 'sound/fr-FR/x8mv7he.flac'}, {'gcs_uri': 'gs://mickael-dm-stt/source/chirp/audio/fr-FR/x8n3e82.flac', 'language_code': 'fr-FR', 'local_uri': 'sound/fr-FR/x8n3e82.flac'}, {'gcs_uri': 'gs://mickael-dm-stt/source/chirp/audio/fr-FR/x8n3jhn.flac', 'language_code': 'fr-FR', 'local_uri': 'sound/fr-FR/x8n3jhn.flac'}, {'gcs_uri': 'gs://mickael-dm-stt/source/chirp/audio/fr-FR/x8n3qv2.flac', 'language_code': 'fr-FR', 'local_uri': 'sound/fr-FR/x8n3qv2.flac'}, {'gcs_uri': 'gs://mickael-dm-stt/source/chirp/audio/fr-FR/x8n3ssu.flac', 'language_code': 'fr-FR', 'local_uri': 'sound/fr-FR/x8n3ssu.flac'}, {'gcs_uri': 'gs://mickael-dm-stt/source/chirp/audio/en-US/x58y7eg.flac', 'language_code': 'en-US', 'local_uri': 'sound/en-US/x58y7eg.flac'}, {'gcs_uri': 'gs://mickael-dm-stt/source/chirp/audio/en-US/x8n0jf1.flac', 'language_code': 'en-US', 'local_uri': 'sound/en-US/x8n0jf1.flac'}, {'gcs_uri': 'gs://mickael-dm-stt/source/chirp/audio/en-US/x8n29uv.flac', 'language_code': 'en-US', 'local_uri': 'sound/en-US/x8n29uv.flac'}, {'gcs_uri': 'gs://mickael-dm-stt/source/chirp/audio/en-US/x8n38du.flac', 'language_code': 'en-US', 'local_uri': 'sound/en-US/x8n38du.flac'}]\n"
     ]
    }
   ],
   "source": [
    "import re\n",
    "from google.cloud import storage\n",
    "import os\n",
    "\n",
    "storage_client = storage.Client()\n",
    "bucket = storage_client.bucket(gcs_bucket)\n",
    "\n",
    "for file in file_array:\n",
    "    regex=f\"gs://{gcs_bucket}/(.*)/(\\w+.flac)$\"\n",
    "    path,filename=re.search(regex,file[\"gcs_uri\"]).group(1,2)\n",
    "    local_uri=f\"sound/{file['language_code']}/{filename}\"\n",
    "    # Fetch results from Cloud Storage\n",
    "    blob = bucket.blob(path+\"/\"+filename)\n",
    "    \n",
    "    if not os.path.exists(f\"sound/{file['language_code']}/\"):\n",
    "            os.makedirs(f\"sound/{file['language_code']}/\")\n",
    "    blob.download_to_filename(local_uri)\n",
    "    file[\"local_uri\"]=local_uri\n",
    "    \n",
    "print(file_array)"
   ]
  },
  {
   "cell_type": "code",
   "execution_count": 4,
   "id": "6b48d547-204b-4950-abb1-4c1e65b41fa6",
   "metadata": {},
   "outputs": [
    {
     "name": "stderr",
     "output_type": "stream",
     "text": [
      "/opt/conda/lib/python3.10/site-packages/whisper/timing.py:58: NumbaDeprecationWarning: \u001b[1mThe 'nopython' keyword argument was not supplied to the 'numba.jit' decorator. The implicit default value for this argument is currently False, but it will be changed to True in Numba 0.59.0. See https://numba.readthedocs.io/en/stable/reference/deprecation.html#deprecation-of-object-mode-fall-back-behaviour-when-using-jit for details.\u001b[0m\n",
      "  def backtrace(trace: np.ndarray):\n",
      "100%|█████████████████████████████████████| 2.87G/2.87G [01:56<00:00, 26.5MiB/s]\n"
     ]
    },
    {
     "name": "stdout",
     "output_type": "stream",
     "text": [
      "Transcript for gs://mickael-dm-stt/source/chirp/audio/fr-FR/x8mmzj2.flac:  On va d'abord parler du KLI YI si tu veux bien. Clairement, qui est annoncé du côté de Strasbourg. On le rappelle, Strasbourg a été racheté par le consortium Blueco qui a racheté il y a un peu plus d'un an Chelsea, avec les conséquences qu'on connaît. YI si on en parle, c'est que ça paraît assez fou de voir Strasbourg se positionner dessus parce qu'à 20 ans il a montré de très très belles choses en Ligue 1 l'année dernière avec 19 buts. On sait qu'il y avait plusieurs gros noms dessus, de jolis noms, notamment Chelsea évidemment. Et que sa valeur marchande est estimée à 25 et 40 millions, ce qui paraît, il y a encore quelques temps, des sommes complètement hallucinantes pour Strasbourg. Mais dans un monde normal, c'est une somme hallucinante pour Strasbourg. Mais le monde strachbourgeois n'est plus normal. Exactement, qui a déjà battu le record. Ils viennent d'acheter un défenseur central de 20 ans, Abba Karsila, pour 22 millions d'euros. Pour vous situer, le plus gros transfert de l'histoire de l'Olympique lyonnais, c'est Jeffrey Nadelaïd à 25 millions d'euros. Le plus gros transfert de Rennes, c'est Guiri à 28. Lille, c'est David à 27. Et l'OM, c'est Vitignac à 32. Donc en gros Strasbourg serait au niveau de ces équipes-là, alors que Strasbourg n'a pas eu la vente qu'a eu Lille, notamment avec Nicolas Pépé, qu'a pu avoir Lyon par le passé. Donc en gros c'est de l'argent frais complètement nouveau. On va rester sur le cas Wai, et on va dire une chose très concrète. Wai ne doit jamais atterrir à Strasbourg dans un monde normal. Ça n'a aucun sens. C'est un joueur qui a 20 ans, tu l'as dit. On doit le voir au niveau supérieur, oui. On doit le voir peut-être dans un plus gros club français, qui joue potentiellement l'Europe. On a envie de voir ce que ça donne Eli Wai, alors peut-être pas en Ligue des Champions, mais au moins en Ligue Europa. Se faire un vrai avis sur Eli Wai, parce que s'il atterrit à Strasbourg, il aura grosso modo le même calendrier qu'un Montpellier. Alors, le saut de salaire, ok, mais l'intérêt d'Eli Wai là-dedans, il est où ? C'est de signer avec l'agro-structure Chelsea ? Ok. Mais est-ce qu'il a la garantie d'un jour atterrir à Chelsea ? Aucune, aucune. Et moi c'est ce qui m'embête là-dedans, c'est que finalement, les seuls gagnants dans l'affaire, c'est Chelsea à long terme, parce que... Possiblement. Possiblement. Si Eli Wai explose, il récupère un super attaquant. Strasbourg, ils sont gagnants, mais à court terme. Que ça se passe bien ou que ça se passe mal, finalement, Eli Wai fera une saison. Oui, c'est ça. Donc, l'intérêt est quand même limité sur le long terme. Et puis, au niveau du joueur, moi ce qui m'interpelle, c'est qu'on a déjà vu à quel point par le passé, le système des prêts pouvait détruire la carrière des joueurs. On a beaucoup parlé, que ce soit dans les FC Scrim Team, ou Mercredi Mercato d'Alphonse Areola, mais Chelsea aussi a eu quelques exemples assez marquants. Bertrand Traoré ou Kevin De Bruyne, on en a entendu parler, ils ont réussi. Ce sont des joueurs qui ont très peu porté le maillot de Chelsea et Chelsea les a simplement utilisés pour faire de l'argent. On peut très bien avoir la même chose pour Eli Wai. Et à l'inverse, si ça se passe mal, vous pouvez avoir votre carrière flinguée. Je vais vous prendre un exemple, je me suis amusé à retracer ça. Un Argentin qui s'appelle Lucas Piazzone, qui avait signé pour 7,5 millions d'euros à Chelsea en 2013. C'est le nouveau crack, etc. Il a eu des prêts à Malaga, Vitesse-Arnheim, Frankfurt, Reading, Fulham, Kiev Overland, Rio Avey, avant d'être libéré en 2021 pour Braga. On n'est pas sur la carrière du siècle et on peut même dire qu'être prêté de saison en saison dans des clubs différents, c'est impossible pour un joueur, à part d'être un extraterrestre, de bien se développer. Et même les extraterrestres reprenaient les six premiers mois de Messi à Paris. Voilà, ça reste des êtres humains. On ne peut pas les envoyer à droite, à gauche, en se disant « c'est un bon employé qui va être rentable au bout de six mois ». Donc, dans l'affaire, ce qui me gêne, c'est que les clubs français sont très contents parce qu'ils récupèrent sans doute des joueurs qui sont inaccessibles pour eux au premier abord. Mais par contre, la logique est uniquement en faveur du plus gros. Et le joueur, et même le club qui récupère ce joueur-là, à court et à moyen terme, les risques sont énormissimes.\n",
      "Transcript for gs://mickael-dm-stt/source/chirp/audio/fr-FR/x8mv7he.flac:  Comment on peut être sûr que là où on vit c'est vraiment la réalité ? Quand vous allez vous apercevoir que ce que vous croyez être la réalité n'est pas forcément si sûr que ça, ça va mettre votre cerveau en ébullition. On va pas se demander si la terre elle est ronde ou plate, on va juste imaginer que vous êtes sur l'autoroute en voiture depuis un petit moment, vous êtes seul sur l'autoroute, vous voyez les panneaux défiler, et tout d'un coup, vous croisez une voiture à contre-sens sur votre voie. Mentalement, dans votre réalité, vous allez vous dire que cette voiture est à contre-sens. Contre-sens. C'est assez logique. L'adrénaline redescend, et là vous recroisez une deuxième voiture à contre-sens. Ça va activer dans votre cerveau un biais cognitif qui s'appelle le biais de conformisme. Ça veut dire que vous vouliez ou non que votre cerveau va remettre en cause le fait que vous soyez dans le bon sens parce que vous avez vu plus d'une personne, donc plus que vous, aller dans l'autre sens. Il y a que deux points de référence, deux personnes qui allaient dans un certain sens, et vous tout seul qui alliez dans un autre sens. Et bien même si ça fait une heure que vous êtes sur la route, que vous avez pris la bonne voie, que vous en êtes sûr, que vous avez vu les panneaux dans votre sens des lectures à vous, et pas de dos, vous allez commencer à douter de la réalité de ce que vous croyez être vrai. Le biais de conformisme, ça marche pour pas mal de choses, pour les sondages, pour les avis d'une manière générale. Qu'on l'admette ou non, on a tendance à penser et à agir comme les autres, quitte à douter de notre propre réalité. Est-ce que vous êtes sûr, par exemple, là maintenant tout de suite, que vous n'êtes pas dans un rêve ? Elle est hard cette question, parce que à part se réveiller, vous n'avez pas de moyens de le savoir. Du coup, il y a une seule chose dont on est sûr, c'est que je m'appelle toujours Fabien Olicard, je suis toujours mentaliste. A très bientôt, ciao !\n",
      "Transcript for gs://mickael-dm-stt/source/chirp/audio/fr-FR/x8n3e82.flac:  Musique Aime-moi doudou Montre-le-moi doudou Musique Notre histoire n'aurait jamais pu finir Dans le calme et la tendresse La cocaïne, la cocaïne a pris ma famille Je suis une clandestine, une clandestine à Miami Musique Et tu ne vis que pour les caméras\n",
      "Transcript for gs://mickael-dm-stt/source/chirp/audio/fr-FR/x8n3jhn.flac:  Dinox Tag a déjà dépensé 80 000 euros pour l'Everest alors qu'il n'a même pas vraiment commencé. Ce week-end on a eu le droit à une vidéo assez émouvante d'Inox dans laquelle il a monté le Mont Blanc et le Mont Cervin dans la foulée, deux des plus gros sommets d'Europe. J'avoue que le moment où il descend en parachute j'avais des frissons et tout, bon en gros il commence vraiment à chauffer à 8 mois de l'Everest. C'est quoi c'est... c'est le meilleur moment de ma vie je crois. Globalement à part un petit vomi, un petit problème de cardio, techniquement il est au top donc moi j'y crois vraiment qu'il va le réussir. Et vous vous rappelez je vous avais dit que c'était un gros budget l'Everest genre 1 million d'euros parce qu'il va faire un beau documentaire, faut payer les caméramans, les guides, la raclette, bref c'est cher. Et entre deux ascensions il nous a révélé qu'avec le matos, l'entraînement, les montagnes, il avait déjà dépensé 80 000 balles. Bon il a trouvé un sponsor, spoil c'est les gourdes, il veut être sécurisé au max et s'entourer des meilleurs, il a bien raison, mais il est même pas à 1 dixième de ses dépenses. Le fait que l'alpiniste c'est quand même un sport qui coûte cher. Vous pensez qu'il va réussir vous ?\n",
      "Transcript for gs://mickael-dm-stt/source/chirp/audio/fr-FR/x8n3qv2.flac:  Est-ce que tu savais que Minecraft est une matière dans certaines écoles ? Il existe une version éducative de Minecraft, elle s'appelle Minecraft Edu, c'est une version basée sur Bedrock, et elle a quelques fonctionnalités en plus pour permettre une utilisation plus simple dans les salles de classe. Car oui, dans certaines écoles, le jeu est même devenu une matière à part entière. Cette version du jeu propose un système multijoueur pour 40 personnes, une belle salle de classe quoi ! Une fonctionnalité Portfolio en ligne pour que les élèves puissent montrer l'avancée de leurs travaux, et les profs ont accès à un panel de cours sur mesure spécialement conçu pour l'enseignement. Ça paraît fou quand même, tu le savais ?\n",
      "Transcript for gs://mickael-dm-stt/source/chirp/audio/fr-FR/x8n3ssu.flac:  បូនាតានានទិតន្រុំតាត់ស្រោស្រោ។ សាតិត់ស្រុំត្រោ។ ឡ។ កាន។ ស្រុំនានានាន។ ក្រឺ។ កាន។ កាន។ ឆាបាបានួត្អានិត់ងខ្រឺដ្រុំត្រោ។ វាន។ សាន។ សាន។ សាន។ ស្រោ។ ស្រោ។ ស្រោ។ ស្រោ។ ស្រោ។ ស្រោ។ ស្រោ។ ស្រោ។ ស្រោ។ ស្រោ។ ស្រោ។ ស្រោ។ ស្រោ។ ស្រោ។ ស្រោ។\n",
      "Transcript for gs://mickael-dm-stt/source/chirp/audio/en-US/x58y7eg.flac:  I remember getting detention or suspended for skateboarding in the hallways. My principal saying, if you think you're going to grow up and be able to skateboard through the halls of your office, you got another thing coming. I built a half pipe in my office a few years ago just so I could skateboard while I worked. My name's Casey Neistat, and I'm a filmmaker and a YouTuber and a business owner and a dad. I wear a lot of hats. ♪♪ I was born in southeastern Connecticut in a town called Gales Ferry, which is like a little kind of nothing town. I got in a lot of trouble as a kid, like a lot of trouble in grammar school just for being bad. It wasn't a lack of respect for authority. It was that I disagreed with the authority. I was being told things that I just didn't agree with. And if I didn't agree with it, why should I subscribe to it? Like I would describe so much of what I experienced and so much of the guidance I was given right up until my teenage years as straight to the middle. Like, yes, you want an average job and an average life. Here's the instruction manual to do it, and if you don't follow these rules, you are wrong. And I didn't believe in that. I didn't subscribe to that. And my frustration was every time I'd push back against that, I'd be pushed down by the authority figures because I would be wrong. And I fucking hated that. Like that frustration was huge for me, and I was running into it everywhere I went. So I left. I ran away from home when I was like 15 years old. I moved in with these two girls. It took me about six weeks to get one of them pregnant, and then I had a baby like two weeks after my 17th birthday. So that was a pivotal moment in my life. We were as poor as poor could be. We're on welfare. We got free milk and diapers from the state. But I had a job. I was a dishwasher, and I had like a regular income. It was $320 a month. And I was like, I'm going to get a job. I had a job. I was a dishwasher, and I had like a regular income. It was $320 a week. Eventually I moved into a trailer park, and then my son's mother dumped me when he was about two years old for all the right reasons. And that's when I started to kind of panic. And it was also the same time that I was introduced to video editing via the new, at the time, 1999, the new iMac, which it had iMovie version 1.0 on it. And I remember the first time I played with that, I was like, wow, this is a way of taking these ideas and turning them into something that I could then share. And that was a profound moment for me in my life. I, for the first time, didn't have any reason to be in Southeastern Connecticut. I felt sort of an impetus to do something more. And I had no idea what that more was, but I knew it couldn't be accomplished in Connecticut. I knew I had to get out. And that's when I made the decision to move to New York City. New York City has always been sort of an object of obsession for me. It's been something that I have been obsessed, I've romanticized, something that I've fixated on since I was a kid. It was June 4, 2001, and I moved to New York City on a train, on an Amtrak train. So it was everything that I could take with me on a train, which was fairly limited, so it wasn't a lot. It was a duffel bag and an iMac, one in each hand. And I took it to Penn Station, and from there took a taxi, which was like a lot of my money, to a sublet that I had in the East Village. And that sublet was probably 200 or 300 square feet, and I shared it with a stranger. So I had a futon in what was my room, and the room was so small the futon wouldn't lay flat. There was no fear, there was no trepidation, it was just pure, unbridled enthusiasm. There was excitement for what was to come. It was me realizing something that had once felt unattainable, and now it was in the palm of my hand. I think the channel started in 2010, and then I think Bike Lanes was 2011, and then Make It Count was like 2012 or 2013. And it was those two and a couple of other ones around there that really took it from zero to 100. The day-to-day now is all about my tech company, Beam. We are in the hands of thousands and thousands of users that are using our platform every single day. So the minute-to-minute is about making that product better for them. This is what sharing on Beam looks like. There's no staring at the phone. You just hold it to your chest and it records, and then it's posted. That's it. I love sharing more than anything else, and sharing in any and every way possible is how I would describe the umbrella that all of my little, more specific ambitions live under. But that inflection point, that moment, leaving Connecticut, leaving what was a life that very easily could have been my entire trajectory, working in kitchens, living in a trailer park, struggling and being miserable, making the decision to leave that and embrace something that was certainly terrifying, that was unknown, that was undetermined in every capacity. That inflection point, that decision, has been the most pivotal decision of my entire life. [♪upbeat music playing♪ and clock ticking♪.] [♪upbeat music playing♪ and clock ticking♪.]\n",
      "Transcript for gs://mickael-dm-stt/source/chirp/audio/en-US/x8n0jf1.flac:  I'm Phalayan. And I'm Bobbi. I'm from Dallas. I'm from Detroit. And we're Flyin' A Boss. We make music for the girls, the gays, and the bays. And every other disenfranchised group out there that doesn't have a voice. We want to empower the unempowered. Yeah, black girls up one. The weird ones up two. Our group name, Flyin' A Boss, has a lot of dimensions to it. She came up with it, really. She went to sleep one night. She woke up, there's this big picture of Diana Ross, and she said, Flyin' A Boss. Exactly. And then later on, I figured I was like, you're fly and a boss. So Flyin' A Boss it is. Yeah. I'm a great fuck, but a better lover. Open carry pussy lethal like I'm Danny Glover. I might steal a bike, drive it through the suburbs. Got your daddy cuffed up like he undercover. When we were writing this song, we were like, we need a bar at the very beginning. Like a standout bar that's going to smack people in the face. Yeah, they just go, what did they just say? We ended up with, I'm a great fuck, but a better lover, because- We're better lovers than we are fucks. Yeah. This is also the first time we ever said pussy in a song twice. Each of us say it, too. Yeah, I've never seen Lethal Weapon, but- Yeah, but I was like, Danny Glover's in that movie. Let's rhyme undercover with Danny Glover. Crop top, little waist, tiny titties in your face. Drop top, big subs, I'm like Nicki, super bass. Got your windows fogged up, because I'm hot like Nelly. I know what you want, so get in my- We love Nicki so much. She's like a big part of our daily life. We're always quoting Nicki bars. Our favorite verse of all time is her verse in Break It Up. I could genius dissect that right now if you want. Brought out the pink Lamborghini, just a race in China. Brought the rave to China, just a race in China. So good. So Nicki's influence is always there. Heavy. Heavy. Heavy on it. In order to be that bitch, you just have to love yourself, love others, be kind, be respectful. And that will give you a path to being the best you. You could never be us. Yeah. You could also be that bitch. Right, you can be that bitch, but not these bitches. Hello Christ. It's like, forgive me Father, I have sinned. Exactly. But it's like, I'm going to just tell you, I'm going to sin again. Right. And then we were like, okay, what's a sin? What's a good sin? But what's like a sweet sin? Yeah, it's not too bad, but like- Like something that we would think is a sin is like telling a man that you love him, but you know you don't. Like you're not feeling him. That is like a sin. Yeah. Also, the verdict's out. I lied. I was feeling him. I really was. I'm made of sugar, spice, canecalon, and cinnamon. Powerpuff Girls have been like a theme since we started. Like, you know, sugar, spice, you know, everything, whatever. Yeah, the ex. The ex, can't go ex. All of that. But I was like, okay, what are we actually made of? Canecalon. Canecalon. It's a daily part of both of our lives. We both braid our hair. It's such a great, fun word to say too. Me and my bestie are the same, like a synonym. We're the same, but different. Yeah. Which is a synonym. Like it's not the exact same word, but it means the same thing. So we are like a synonym. It runs with sin again, and cinnamon, so we put it in. I be Michael Phelps, all the brand deals that I'm swimming in. When we wrote the brand deal line, we had zero brand deals. Zip. But now we have a couple. Manifestation is real. You can call me Dr. Evil, cause I got many men. That line just felt like a layup. I think it just came out as like, oh, Dr. Evil, many men. Many men. Many men. Also, all the henchmen. He has so many henchmen. And then many me. Everything. It just came together. Yeah. Invested in this pussy and this shit is paying dividends. Slap a bitch, bitch slap back, cause I'm feminine. I think it's important to invest in your pussy. Financially, spiritually, a wax maybe, worship your own pussy. All of that. It's important to take the time to invest in your pussy, but also invest in yourself. Your human body and who you are and your spirituality and all of that. And that's what that line represents. Our very first video of us running was in the suburbs, okay? We just picked a random street and we were like, let's run down this street. And we did it to like the first verse. And like we talked about it. We weren't sure if we should both be running at the same time together. But then eventually we came to the conclusion that I'm just gonna hop in whenever. So I like stood down the street and waited for them. And we've been running ever since. Yes.\n",
      "Transcript for gs://mickael-dm-stt/source/chirp/audio/en-US/x8n29uv.flac:  Uber CEO has accidentally revealed that he doesn't know how much rides cost on his own app. In an interview with Wired, Dara Khasroshahi was asked how much he thought a three mile Uber ride in New York costs. His answer was 20 bucks before being told the total was $50 and the CEO was shocked. Khasroshahi responded with, oh my God, wow. And that was before he found out the $50 was on the lower end due to surge pricing. Surge pricing is when prices increase for goods or services during peak demand time. So sometimes a three mile ride in New York in an Uber can cost an upward of $70. And data suggests that Uber's prices are continuing to rise. Khasroshahi addressed this issue saying, everything is more expensive, inflation has become a part of our everyday lives. He also mentioned that Uber is seeing audience growth, so while prices are higher, he said it certainly hasn't hurt the business.\n",
      "Transcript for gs://mickael-dm-stt/source/chirp/audio/en-US/x8n38du.flac:  You know, I knew for a fact even before the broadcasters, all the broadcasters in Europe and were so negative about taking up the, you know, taking up the, what's the word I'm looking for? The rights. The rights, taking up the rights and I'm quite pleased that in the end, you know, it's like one of the most attended, one of the most watched, you know, and it's embarrassed them really because like I believe that the women's game is, it's like a new startup business. It needs investment. It needs to be given time and I would like to have seen the broadcasters put that money in and give it the investment that it needs because what we're seeing now is, like we're saying, record attendances, viewing figures, you know, the girls have delivered and I'm really pleased about that. I'm really pleased for them.\n",
      "Took 2149.255746126175 to execute\n"
     ]
    }
   ],
   "source": [
    "import whisper\n",
    "import time\n",
    "import re\n",
    "from google.cloud import storage\n",
    "\n",
    "whisper_model=whisper.load_model(model)\n",
    "\n",
    "# Instantiates a Cloud Storage client\n",
    "storage_client=storage.Client()\n",
    "bucket = storage_client.bucket(gcs_bucket)\n",
    "\n",
    "start_time = time.time()\n",
    "\n",
    "for file in file_array:\n",
    "    transcript=whisper_model.transcribe(file[\"local_uri\"], fp16=False)\n",
    "    print(f\"Transcript for {file['gcs_uri']}: {transcript['text']}\")\n",
    "\n",
    "    transcript_path=f\"{gcs_transcripts_path}/whisper_{model}\"\n",
    "    transcript_id=re.search(\"(\\w+)\\.flac$\",file[\"gcs_uri\"]).group(1)\n",
    "    #print(f\"gs://{gcs_bucket}/{transcript_path}/txt/{transcript_id}.txt\")\n",
    "    \n",
    "    # Instantiates a Cloud Storage client\n",
    "    blob=bucket.blob(f\"{transcript_path}/txt/{transcript_id}.txt\")\n",
    "    blob.upload_from_string(transcript[\"text\"])\n",
    "    \n",
    "duration = time.time() - start_time\n",
    "print(f\"Took {duration} to execute\")\n",
    "\n",
    "#result = whisper_model.transcribe(\"sound/fr-FR/x8n3qv2.flac\", fp16=False)\n",
    "#print(result[\"text\"])\n",
    "\n",
    "#gs://mickael-dm-stt/transcripts/chirp/txt/x8n3ssu.txt"
   ]
  }
 ],
 "metadata": {
  "environment": {
   "kernel": "python3",
   "name": "common-cpu.m110",
   "type": "gcloud",
   "uri": "gcr.io/deeplearning-platform-release/base-cpu:m110"
  },
  "kernelspec": {
   "display_name": "Python 3",
   "language": "python",
   "name": "python3"
  },
  "language_info": {
   "codemirror_mode": {
    "name": "ipython",
    "version": 3
   },
   "file_extension": ".py",
   "mimetype": "text/x-python",
   "name": "python",
   "nbconvert_exporter": "python",
   "pygments_lexer": "ipython3",
   "version": "3.10.12"
  }
 },
 "nbformat": 4,
 "nbformat_minor": 5
}
